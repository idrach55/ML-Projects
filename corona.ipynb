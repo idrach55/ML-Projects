{
 "cells": [
  {
   "cell_type": "code",
   "execution_count": 3,
   "metadata": {},
   "outputs": [],
   "source": [
    "import cv2\n",
    "import os\n",
    "import pandas as pd\n",
    "import numpy as np\n",
    "\n",
    "import torch\n",
    "import torch.nn as nn\n",
    "import torch.nn.functional as F\n",
    "import torch.optim as optim\n",
    "\n",
    "import PIL\n",
    "\n",
    "import torchvision\n",
    "from torchvision import datasets, transforms\n",
    "\n",
    "from torch.utils.data import DataLoader, TensorDataset"
   ]
  },
  {
   "cell_type": "code",
   "execution_count": 4,
   "metadata": {},
   "outputs": [],
   "source": [
    "dataset = datasets.ImageFolder('./coronahack-chest-xraydataset/dataset',\n",
    "                               transform=transforms.Compose([transforms.Resize((256,256)),\n",
    "                                   np.array, torch.tensor, lambda x: torch.reshape(x,(3,256,256))/255]))\n",
    "trainset, valset = torch.utils.data.random_split(dataset, [5000, 284])\n",
    "\n",
    "loaders = {'train': torch.utils.data.DataLoader(trainset, batch_size=32, shuffle=True),\n",
    "           'test':  torch.utils.data.DataLoader(valset)}"
   ]
  },
  {
   "cell_type": "code",
   "execution_count": 5,
   "metadata": {},
   "outputs": [
    {
     "data": {
      "text/plain": [
       "{'bacteria': 0, 'normal': 1, 'viral': 2}"
      ]
     },
     "execution_count": 5,
     "metadata": {},
     "output_type": "execute_result"
    }
   ],
   "source": [
    "dataset.class_to_idx"
   ]
  },
  {
   "cell_type": "code",
   "execution_count": 6,
   "metadata": {},
   "outputs": [],
   "source": [
    "class Model(nn.Module):\n",
    "    def __init__(self):\n",
    "        super(Model, self).__init__()\n",
    "\n",
    "        self.conv1 = nn.Conv2d(3, 64, kernel_size=(4,4), stride=(2,2), padding=(1,1), bias=False)\n",
    "        self.conv2 = nn.Conv2d(64, 64, kernel_size=(4,4), stride=(2,2), padding=(1,1), bias=False)\n",
    "        self.conv3 = nn.Conv2d(64, 128, kernel_size=(4,4), stride=(2,2), padding=(1,1), bias=False)\n",
    "        self.conv4 = nn.Conv2d(128, 256, kernel_size=(4,4), stride=(2,2), padding=(1,1), bias=False)\n",
    "        self.batch1 = nn.BatchNorm2d(64)\n",
    "        self.batch2 = nn.BatchNorm2d(64)\n",
    "        self.batch3 = nn.BatchNorm2d(128)\n",
    "        self.batch4 = nn.BatchNorm2d(256)\n",
    "        self.flatten = nn.Flatten()\n",
    "        self.dense = nn.Linear(65536, 3)\n",
    "\n",
    "    def forward(self, x):\n",
    "        \"\"\"\n",
    "        Forward-propogate through the neural net.\n",
    "\n",
    "        Apply rounds of convolution, then batch normalization, leaky-relu, and dropout.\n",
    "        \"\"\"\n",
    "        x = self.conv1(x)\n",
    "        x = self.batch1(x)\n",
    "        x = F.leaky_relu(x, negative_slope=0.20)\n",
    "        x = F.dropout(x, 0.5)\n",
    "\n",
    "        x = self.conv2(x)\n",
    "        x = self.batch2(x)\n",
    "        x = F.leaky_relu(x, negative_slope=0.20)\n",
    "        x = F.dropout(x, 0.4)\n",
    "\n",
    "        x = self.conv3(x)\n",
    "        x = self.batch3(x)\n",
    "        x = F.leaky_relu(x, negative_slope=0.20)\n",
    "        x = F.dropout(x, 0.4)\n",
    "\n",
    "        x = self.conv4(x)\n",
    "        x = self.batch4(x)\n",
    "        x = F.leaky_relu(x, negative_slope=0.20)\n",
    "        x = F.dropout(x, 0.4)\n",
    "\n",
    "        x = self.flatten(x)\n",
    "        x = self.dense(x)\n",
    "        return F.log_softmax(x, dim=1)"
   ]
  },
  {
   "cell_type": "code",
   "execution_count": 7,
   "metadata": {},
   "outputs": [],
   "source": [
    "model = Model()"
   ]
  },
  {
   "cell_type": "code",
   "execution_count": 8,
   "metadata": {},
   "outputs": [],
   "source": [
    "example = loaders['train'].dataset[8][0].reshape(1,3,256,256)"
   ]
  },
  {
   "cell_type": "code",
   "execution_count": null,
   "metadata": {},
   "outputs": [],
   "source": [
    "model(example)"
   ]
  },
  {
   "cell_type": "code",
   "execution_count": null,
   "metadata": {},
   "outputs": [],
   "source": []
  }
 ],
 "metadata": {
  "kernelspec": {
   "display_name": "Python 3",
   "language": "python",
   "name": "python3"
  },
  "language_info": {
   "codemirror_mode": {
    "name": "ipython",
    "version": 3
   },
   "file_extension": ".py",
   "mimetype": "text/x-python",
   "name": "python",
   "nbconvert_exporter": "python",
   "pygments_lexer": "ipython3",
   "version": "3.7.3"
  }
 },
 "nbformat": 4,
 "nbformat_minor": 4
}
