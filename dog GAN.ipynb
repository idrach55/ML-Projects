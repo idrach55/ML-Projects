{
 "cells": [
  {
   "cell_type": "code",
   "execution_count": 566,
   "metadata": {},
   "outputs": [
    {
     "name": "stdout",
     "output_type": "stream",
     "text": [
      "Populating the interactive namespace from numpy and matplotlib\n"
     ]
    }
   ],
   "source": [
    "%pylab inline\n",
    "\n",
    "from sklearn.datasets import fetch_openml\n",
    "\n",
    "from tensorflow.keras.models import Sequential\n",
    "from tensorflow.keras.layers import Dense, Activation, Flatten, Reshape\n",
    "from tensorflow.keras.layers import Conv2D, Conv2DTranspose, UpSampling2D\n",
    "from tensorflow.keras.layers import LeakyReLU, Dropout, ReLU\n",
    "from tensorflow.keras.layers import BatchNormalization\n",
    "from tensorflow.keras.optimizers import Adam, RMSprop\n",
    "\n",
    "from tqdm._tqdm_notebook import tqdm_notebook\n",
    "\n",
    "#from PIL import Image\n",
    "\n",
    "import tensorflow as tf\n",
    "import xml.etree.ElementTree as ET \n",
    "import os\n",
    "import cv2"
   ]
  },
  {
   "cell_type": "code",
   "execution_count": 148,
   "metadata": {},
   "outputs": [],
   "source": [
    "def jpg_image_to_array(image_path):\n",
    "    with Image.open(image_path) as image:\n",
    "        im_arr = np.frombuffer(image.tobytes(), dtype=np.uint8)\n",
    "        im_arr = im_arr.reshape(image.size[1], image.size[0], 3)                                   \n",
    "    return im_arr\n",
    "\n",
    "def read_image(src):\n",
    "    img = cv2.imread(src)\n",
    "    if img is None:\n",
    "        raise FileNotFoundError\n",
    "    img = cv2.cvtColor(img, cv2.COLOR_BGR2RGB)\n",
    "    return img"
   ]
  },
  {
   "cell_type": "code",
   "execution_count": 440,
   "metadata": {},
   "outputs": [],
   "source": [
    "annotation_dir = 'stanford-dogs-dataset/annotations/Annotation'\n",
    "dog_breed_dict = {}\n",
    "for annotation in os.listdir(annotation_dir):\n",
    "    if annotation == '.DS_Store':\n",
    "        continue\n",
    "    annotations = annotation.split('-')\n",
    "    dog_breed_dict[annotations[0]] = '-'.join(annotations[1:])"
   ]
  },
  {
   "cell_type": "code",
   "execution_count": 98,
   "metadata": {},
   "outputs": [],
   "source": [
    "processed_dir = 'stanford-dogs-dataset/processed'"
   ]
  },
  {
   "cell_type": "code",
   "execution_count": 441,
   "metadata": {},
   "outputs": [],
   "source": [
    "breed_directories = ['stanford-dogs-dataset/images/Images/{}-{}'.format(k,v) for k,v in dog_breed_dict.items()]"
   ]
  },
  {
   "cell_type": "code",
   "execution_count": 442,
   "metadata": {},
   "outputs": [],
   "source": [
    "images = []\n",
    "for breed in breed_directories:\n",
    "    images += [breed+'/'+fname for fname in os.listdir(breed)]"
   ]
  },
  {
   "cell_type": "code",
   "execution_count": 444,
   "metadata": {},
   "outputs": [],
   "source": [
    "maltese_code = [code for code in dog_breed_dict.keys() if dog_breed_dict[code] == 'Maltese_dog'][0]\n",
    "maltese_dir = 'stanford-dogs-dataset/images/Images/{}-Maltese_dog'.format(maltese_code)"
   ]
  },
  {
   "cell_type": "code",
   "execution_count": 456,
   "metadata": {},
   "outputs": [],
   "source": [
    "image_width = 64\n",
    "image_height = 64\n",
    "image_channels = 3\n",
    "image_sample_size = 10000\n",
    "\n",
    "def crop_image(path):\n",
    "    image = read_image(path)\n",
    "    tree = ET.parse(os.path.join(annotation_dir, '/'.join(path.split('/')[-2:])[:-4]))\n",
    "    \n",
    "    root = tree.getroot() \n",
    "    size = root.find('size')\n",
    "    width = int(size.find('width').text)\n",
    "    height = int(size.find('height').text)\n",
    "    objects = root.findall('object')\n",
    "    \n",
    "    bndbox = objects[0].find('bndbox') \n",
    "\n",
    "    xmin = int(bndbox.find('xmin').text)\n",
    "    ymin = int(bndbox.find('ymin').text)\n",
    "    xmax = int(bndbox.find('xmax').text)\n",
    "    ymax = int(bndbox.find('ymax').text)\n",
    "\n",
    "    # 4 : margin\n",
    "    xmin = max(0, xmin - 4) \n",
    "    xmax = min(width, xmax + 4)\n",
    "    ymin = max(0, ymin - 4)\n",
    "    ymax = min(height, ymax + 4)\n",
    "\n",
    "    # available w\n",
    "    w = np.min((xmax - xmin, ymax - ymin))\n",
    "    w = min(w, width, height)                     \n",
    "\n",
    "    if w > xmax - xmin:\n",
    "        xmin = min(max(0, xmin - int((w - (xmax - xmin))/2)), width - w)\n",
    "        xmax = xmin + w\n",
    "    if w > ymax - ymin:\n",
    "        ymin = min(max(0, ymin - int((w - (ymax - ymin))/2)), height - w)\n",
    "        ymax = ymin + w\n",
    "\n",
    "    # [h,w,c]\n",
    "    img_cropped = image[ymin:ymin+w, xmin:xmin+w, :]    \n",
    "\n",
    "    # Interpolation method\n",
    "    if xmax - xmin > image_width:\n",
    "        # shrink\n",
    "        interpolation = cv2.INTER_AREA          \n",
    "    else:\n",
    "        # expansion\n",
    "        interpolation = cv2.INTER_CUBIC         \n",
    "\n",
    "    # resize\n",
    "    return cv2.resize(img_cropped, (image_width, image_height), interpolation=interpolation)"
   ]
  },
  {
   "cell_type": "code",
   "execution_count": 457,
   "metadata": {},
   "outputs": [
    {
     "data": {
      "application/vnd.jupyter.widget-view+json": {
       "model_id": "363b26c490b0441e83655b02bf8fd1b7",
       "version_major": 2,
       "version_minor": 0
      },
      "text/plain": [
       "HBox(children=(IntProgress(value=0, max=20580), HTML(value='')))"
      ]
     },
     "metadata": {},
     "output_type": "display_data"
    },
    {
     "name": "stdout",
     "output_type": "stream",
     "text": [
      "\n"
     ]
    }
   ],
   "source": [
    "cropped = np.zeros(shape=(len(images),64,64,3))\n",
    "for img_idx in tqdm_notebook(range(len(images))):\n",
    "    cropped[img_idx] = crop_image(images[img_idx])"
   ]
  },
  {
   "cell_type": "code",
   "execution_count": 459,
   "metadata": {},
   "outputs": [],
   "source": [
    "normed_images = (cropped - 127.5)/127.5"
   ]
  },
  {
   "cell_type": "code",
   "execution_count": 460,
   "metadata": {},
   "outputs": [
    {
     "data": {
      "text/plain": [
       "<matplotlib.image.AxesImage at 0x183b32860>"
      ]
     },
     "execution_count": 460,
     "metadata": {},
     "output_type": "execute_result"
    },
    {
     "data": {
      "image/png": "[encoded data removed]",
      "text/plain": [
       "<Figure size 432x288 with 1 Axes>"
      ]
     },
     "metadata": {
      "needs_background": "light"
     },
     "output_type": "display_data"
    }
   ],
   "source": [
    "imshow(cropped[2]/252)"
   ]
  },
  {
   "cell_type": "code",
   "execution_count": 569,
   "metadata": {},
   "outputs": [],
   "source": [
    "def transposed_conv(model, out_channels, ksize, stride_size, ptype='same'):\n",
    "    model.add(Conv2DTranspose(out_channels, (ksize, ksize), strides=(stride_size, stride_size), padding=ptype, \n",
    "                              kernel_initializer=weight_initializer, use_bias=False))\n",
    "    model.add(BatchNormalization())\n",
    "    model.add(ReLU())\n",
    "    return model\n",
    "\n",
    "def conv(model, out_channels, ksize, stride_size):\n",
    "    model.add(Conv2D(out_channels, (ksize, ksize), strides=(stride_size, stride_size), padding='same', \n",
    "                     kernel_initializer=weight_initializer, use_bias=False))\n",
    "    model.add(BatchNormalization())\n",
    "    model.add(LeakyReLU(leaky_relu_slope))\n",
    "    #model.add(Dropout(dropout_rate))\n",
    "    return model"
   ]
  },
  {
   "cell_type": "code",
   "execution_count": 570,
   "metadata": {},
   "outputs": [],
   "source": [
    "batch_size = 128\n",
    "weight_init_std = 0.02\n",
    "weight_init_mean = 0.0\n",
    "leaky_relu_slope = 0.2\n",
    "downsize_factor = 2\n",
    "dropout_rate = 0.5\n",
    "scale_factor = 4 ** downsize_factor\n",
    "noise_dim = 128"
   ]
  },
  {
   "cell_type": "code",
   "execution_count": 571,
   "metadata": {},
   "outputs": [],
   "source": [
    "def DogGenerator():\n",
    "    model = Sequential()\n",
    "    model.add(Dense(image_width // scale_factor * image_height // scale_factor * 128, input_shape=(noise_dim,)))\n",
    "    #model.add(BatchNormalization(epsilon=BN_EPSILON, momentum=BN_MOMENTUM))\n",
    "    #model.add(LeakyReLU(alpha=leaky_relu_slope))\n",
    "    model.add(Reshape((image_height // scale_factor, image_width // scale_factor, 128)))\n",
    "    \n",
    "    model = transposed_conv(model, 512, ksize=5, stride_size=1)\n",
    "    model.add(Dropout(dropout_rate))\n",
    "    model = transposed_conv(model, 256, ksize=5, stride_size=2)\n",
    "    model.add(Dropout(dropout_rate))\n",
    "    model = transposed_conv(model, 128, ksize=5, stride_size=2)\n",
    "    model = transposed_conv(model, 64, ksize=5, stride_size=2)\n",
    "    model = transposed_conv(model, 32, ksize=5, stride_size=2)\n",
    "    \n",
    "    model.add(Dense(3, activation='tanh'))\n",
    "    return model\n",
    "\n",
    "def DogDiscriminator():\n",
    "    model = Sequential()\n",
    "    model.add(Conv2D(64, (4, 4), strides=(2,2), padding='same', use_bias=False,\n",
    "                         input_shape=(image_height, image_width, 3)))\n",
    "    #model.add(BatchNormalization(epsilon=BN_EPSILON, momentum=BN_MOMENTUM))\n",
    "    model.add(LeakyReLU(alpha=leaky_relu_slope))\n",
    "    #model.add(Dropout(dropout_rate))\n",
    "\n",
    "    model = conv(model, 64, ksize=4, stride_size=2)\n",
    "    model = conv(model, 128, ksize=4, stride_size=2)\n",
    "    model = conv(model, 256, ksize=4, stride_size=2)\n",
    "\n",
    "    model.add(Flatten())\n",
    "    model.add(Dense(1, activation='sigmoid'))\n",
    "    return model"
   ]
  },
  {
   "cell_type": "code",
   "execution_count": 572,
   "metadata": {},
   "outputs": [],
   "source": [
    "weight_initializer = tf.keras.initializers.TruncatedNormal(stddev=weight_init_std, mean=weight_init_mean, seed=42)"
   ]
  },
  {
   "cell_type": "code",
   "execution_count": 573,
   "metadata": {},
   "outputs": [
    {
     "name": "stdout",
     "output_type": "stream",
     "text": [
      "Model: \"sequential_47\"\n",
      "_________________________________________________________________\n",
      "Layer (type)                 Output Shape              Param #   \n",
      "=================================================================\n",
      "dense_37 (Dense)             (None, 2048)              264192    \n",
      "_________________________________________________________________\n",
      "reshape_27 (Reshape)         (None, 4, 4, 128)         0         \n",
      "_________________________________________________________________\n",
      "conv2d_transpose_120 (Conv2D (None, 4, 4, 512)         1638400   \n",
      "_________________________________________________________________\n",
      "batch_normalization_123 (Bat (None, 4, 4, 512)         2048      \n",
      "_________________________________________________________________\n",
      "re_lu_5 (ReLU)               (None, 4, 4, 512)         0         \n",
      "_________________________________________________________________\n",
      "dropout_33 (Dropout)         (None, 4, 4, 512)         0         \n",
      "_________________________________________________________________\n",
      "conv2d_transpose_121 (Conv2D (None, 8, 8, 256)         3276800   \n",
      "_________________________________________________________________\n",
      "batch_normalization_124 (Bat (None, 8, 8, 256)         1024      \n",
      "_________________________________________________________________\n",
      "re_lu_6 (ReLU)               (None, 8, 8, 256)         0         \n",
      "_________________________________________________________________\n",
      "dropout_34 (Dropout)         (None, 8, 8, 256)         0         \n",
      "_________________________________________________________________\n",
      "conv2d_transpose_122 (Conv2D (None, 16, 16, 128)       819200    \n",
      "_________________________________________________________________\n",
      "batch_normalization_125 (Bat (None, 16, 16, 128)       512       \n",
      "_________________________________________________________________\n",
      "re_lu_7 (ReLU)               (None, 16, 16, 128)       0         \n",
      "_________________________________________________________________\n",
      "conv2d_transpose_123 (Conv2D (None, 32, 32, 64)        204800    \n",
      "_________________________________________________________________\n",
      "batch_normalization_126 (Bat (None, 32, 32, 64)        256       \n",
      "_________________________________________________________________\n",
      "re_lu_8 (ReLU)               (None, 32, 32, 64)        0         \n",
      "_________________________________________________________________\n",
      "conv2d_transpose_124 (Conv2D (None, 64, 64, 32)        51200     \n",
      "_________________________________________________________________\n",
      "batch_normalization_127 (Bat (None, 64, 64, 32)        128       \n",
      "_________________________________________________________________\n",
      "re_lu_9 (ReLU)               (None, 64, 64, 32)        0         \n",
      "_________________________________________________________________\n",
      "dense_38 (Dense)             (None, 64, 64, 3)         99        \n",
      "=================================================================\n",
      "Total params: 6,258,659\n",
      "Trainable params: 6,256,675\n",
      "Non-trainable params: 1,984\n",
      "_________________________________________________________________\n"
     ]
    }
   ],
   "source": [
    "G = DogGenerator()\n",
    "print(G.summary())\n",
    "\n",
    "D = DogDiscriminator()\n",
    "print(D.summary())"
   ]
  },
  {
   "cell_type": "code",
   "execution_count": 575,
   "metadata": {},
   "outputs": [],
   "source": [
    "# Tutorial optimizer\n",
    "G_optimizer = Adam(learning_rate=0.0002)\n",
    "D_optimizer = Adam(learning_rate=0.0002)\n",
    "\n",
    "# This method returns a helper function to compute cross entropy loss\n",
    "cross_entropy = tf.keras.losses.BinaryCrossentropy(from_logits=False)"
   ]
  },
  {
   "cell_type": "code",
   "execution_count": 576,
   "metadata": {},
   "outputs": [],
   "source": [
    "# Tutorial loss functions\n",
    "\n",
    "# Label smoothing -- technique from GAN hacks, instead of assigning 1/0 as class labels, \n",
    "# we assign a random integer in range [0.7, 1.0] for positive class and [0.0, 0.3] for negative class\n",
    "\n",
    "def smooth_positive_labels(y):\n",
    "    return y - 0.3 + (np.random.random(y.shape) * 0.5)\n",
    "\n",
    "def smooth_negative_labels(y):\n",
    "    return y + np.random.random(y.shape) * 0.3\n",
    "\n",
    "# randomly flip some labels\n",
    "def noisy_labels(y, p_flip):\n",
    "    # determine the number of labels to flip\n",
    "    n_select = int(p_flip * int(y.shape[0]))\n",
    "    # choose labels to flip\n",
    "    flip_ix = np.random.choice([i for i in range(int(y.shape[0]))], size=n_select)\n",
    "    \n",
    "    op_list = []\n",
    "    # invert the labels in place\n",
    "    #y_np[flip_ix] = 1 - y_np[flip_ix]\n",
    "    for i in range(int(y.shape[0])):\n",
    "        if i in flip_ix:\n",
    "            op_list.append(tf.subtract(1, y[i]))\n",
    "        else:\n",
    "            op_list.append(y[i])\n",
    "    \n",
    "    outputs = tf.stack(op_list)\n",
    "    return outputs\n",
    "\n",
    "def discriminator_loss(real_output, fake_output, apply_label_smoothing=True, label_noise=True):\n",
    "    if label_noise and apply_label_smoothing:\n",
    "        real_output_noise = noisy_labels(tf.ones_like(real_output), 0.05)\n",
    "        fake_output_noise = noisy_labels(tf.zeros_like(fake_output), 0.05)\n",
    "        real_output_smooth = smooth_positive_labels(real_output_noise)\n",
    "        fake_output_smooth = smooth_negative_labels(fake_output_noise)\n",
    "\n",
    "        real_loss = cross_entropy(tf.ones_like(real_output_smooth), real_output)\n",
    "        fake_loss = cross_entropy(tf.zeros_like(fake_output_smooth), fake_output)\n",
    "        total_loss = real_loss + fake_loss\n",
    "        return total_loss\n",
    "    elif label_noise and not apply_label_smoothing:\n",
    "        real_output_noise = noisy_labels(tf.ones_like(real_output), 0.05)\n",
    "        fake_output_noise = noisy_labels(tf.zeros_like(fake_output), 0.05)\n",
    "\n",
    "        real_loss = cross_entropy(tf.ones_like(real_output_noise), real_output)\n",
    "        fake_loss = cross_entropy(tf.zeros_like(fake_output_noise), fake_output)\n",
    "        total_loss = real_loss + fake_loss\n",
    "        return total_loss\n",
    "    elif apply_label_smoothing and not label_noise:\n",
    "        real_output_smooth = smooth_positive_labels(tf.ones_like(real_output))\n",
    "        fake_output_smooth = smooth_negative_labels(tf.zeros_like(fake_output))\n",
    "        \n",
    "        real_loss = cross_entropy(tf.ones_like(real_output_smooth), real_output)\n",
    "        fake_loss = cross_entropy(tf.zeros_like(fake_output_smooth), fake_output)\n",
    "        total_loss = real_loss + fake_loss\n",
    "        return total_loss    \n",
    "    else:\n",
    "        real_loss = cross_entropy(tf.ones_like(real_output), real_output)\n",
    "        fake_loss = cross_entropy(tf.zeros_like(fake_output), fake_output)\n",
    "        \n",
    "        total_loss = real_loss + fake_loss\n",
    "        return total_loss\n",
    "    \n",
    "def generator_loss(real_output, fake_output, apply_label_smoothing=True):\n",
    "    if apply_label_smoothing:\n",
    "        fake_output_smooth = smooth_negative_labels(tf.ones_like(fake_output))\n",
    "        return cross_entropy(tf.ones_like(fake_output_smooth), fake_output)\n",
    "    else:           \n",
    "        return cross_entropy(tf.ones_like(fake_output), fake_output)"
   ]
  },
  {
   "cell_type": "code",
   "execution_count": 577,
   "metadata": {},
   "outputs": [],
   "source": [
    "# Tutorial training\n",
    "def train_step(images, batch_size=64):\n",
    "    noise = tf.random.normal([batch_size, noise_dim])\n",
    "\n",
    "    with tf.GradientTape() as gen_tape, tf.GradientTape() as disc_tape:\n",
    "        generated_images = G(noise, training=True)\n",
    "        \n",
    "        real_output = D(images, training=True)\n",
    "        fake_output = D(generated_images, training=True)\n",
    "        \n",
    "        gen_loss = generator_loss(real_output, fake_output, apply_label_smoothing=True)\n",
    "        disc_loss = discriminator_loss(real_output, fake_output, apply_label_smoothing=True, label_noise=True)\n",
    " \n",
    "    grad_G = gen_tape.gradient(gen_loss, G.trainable_variables)\n",
    "    grad_D = disc_tape.gradient(disc_loss, D.trainable_variables)\n",
    "\n",
    "    G_optimizer.apply_gradients(zip(grad_G, G.trainable_variables))\n",
    "    D_optimizer.apply_gradients(zip(grad_D, D.trainable_variables))\n",
    "    return gen_loss, disc_loss"
   ]
  },
  {
   "cell_type": "code",
   "execution_count": 578,
   "metadata": {},
   "outputs": [],
   "source": [
    "G_losses = []\n",
    "D_losses = []\n",
    "def train_batch(epochs=1, batch_size=64):\n",
    "    steps = epochs * len(normed_images) // batch_size\n",
    "    for step_idx in tqdm_notebook(range(steps)):\n",
    "        images_train = normed_images[np.random.randint(0, normed_images.shape[0], size=batch_size), :, :, :]\n",
    "        G_loss, D_loss = train_step(images_train, batch_size=batch_size)\n",
    "        G_losses.append(G_loss)\n",
    "        D_losses.append(D_loss)"
   ]
  },
  {
   "cell_type": "code",
   "execution_count": 584,
   "metadata": {},
   "outputs": [
    {
     "data": {
      "application/vnd.jupyter.widget-view+json": {
       "model_id": "fc0d46f7b06340a287fabf4f51665f9f",
       "version_major": 2,
       "version_minor": 0
      },
      "text/plain": [
       "HBox(children=(IntProgress(value=0, max=3215), HTML(value='')))"
      ]
     },
     "metadata": {},
     "output_type": "display_data"
    },
    {
     "name": "stdout",
     "output_type": "stream",
     "text": [
      "WARNING:tensorflow:Layer conv2d_17 is casting an input tensor from dtype float64 to the layer's dtype of float32, which is new behavior in TensorFlow 2.  The layer has dtype float32 because it's dtype defaults to floatx.\n",
      "\n",
      "If you intended to run this layer in float32, you can safely ignore this warning. If in doubt, this warning is likely only an issue if you are porting a TensorFlow 1.X model to TensorFlow 2.\n",
      "\n",
      "To change all layers to have dtype float64 by default, call `tf.keras.backend.set_floatx('float64')`. To change just this layer, pass dtype='float64' to the layer constructor. If you are the author of this layer, you can disable autocasting by passing autocast=False to the base Layer constructor.\n",
      "\n"
     ]
    },
    {
     "ename": "KeyboardInterrupt",
     "evalue": "",
     "output_type": "error",
     "traceback": [
      "\u001b[0;31m------------------------------------------------------------\u001b[0m",
      "\u001b[0;31mKeyboardInterrupt\u001b[0m          Traceback (most recent call last)",
      "\u001b[0;32m<ipython-input-584-3e8a0c001aa3>\u001b[0m in \u001b[0;36m<module>\u001b[0;34m\u001b[0m\n\u001b[0;32m----> 1\u001b[0;31m \u001b[0mtrain_batch\u001b[0m\u001b[0;34m(\u001b[0m\u001b[0mepochs\u001b[0m\u001b[0;34m=\u001b[0m\u001b[0;36m10\u001b[0m\u001b[0;34m)\u001b[0m\u001b[0;34m\u001b[0m\u001b[0;34m\u001b[0m\u001b[0m\n\u001b[0m",
      "\u001b[0;32m<ipython-input-578-084e87cecd9e>\u001b[0m in \u001b[0;36mtrain_batch\u001b[0;34m(epochs, batch_size)\u001b[0m\n\u001b[1;32m      5\u001b[0m     \u001b[0;32mfor\u001b[0m \u001b[0mstep_idx\u001b[0m \u001b[0;32min\u001b[0m \u001b[0mtqdm_notebook\u001b[0m\u001b[0;34m(\u001b[0m\u001b[0mrange\u001b[0m\u001b[0;34m(\u001b[0m\u001b[0msteps\u001b[0m\u001b[0;34m)\u001b[0m\u001b[0;34m)\u001b[0m\u001b[0;34m:\u001b[0m\u001b[0;34m\u001b[0m\u001b[0;34m\u001b[0m\u001b[0m\n\u001b[1;32m      6\u001b[0m         \u001b[0mimages_train\u001b[0m \u001b[0;34m=\u001b[0m \u001b[0mnormed_images\u001b[0m\u001b[0;34m[\u001b[0m\u001b[0mnp\u001b[0m\u001b[0;34m.\u001b[0m\u001b[0mrandom\u001b[0m\u001b[0;34m.\u001b[0m\u001b[0mrandint\u001b[0m\u001b[0;34m(\u001b[0m\u001b[0;36m0\u001b[0m\u001b[0;34m,\u001b[0m \u001b[0mnormed_images\u001b[0m\u001b[0;34m.\u001b[0m\u001b[0mshape\u001b[0m\u001b[0;34m[\u001b[0m\u001b[0;36m0\u001b[0m\u001b[0;34m]\u001b[0m\u001b[0;34m,\u001b[0m \u001b[0msize\u001b[0m\u001b[0;34m=\u001b[0m\u001b[0mbatch_size\u001b[0m\u001b[0;34m)\u001b[0m\u001b[0;34m,\u001b[0m \u001b[0;34m:\u001b[0m\u001b[0;34m,\u001b[0m \u001b[0;34m:\u001b[0m\u001b[0;34m,\u001b[0m \u001b[0;34m:\u001b[0m\u001b[0;34m]\u001b[0m\u001b[0;34m\u001b[0m\u001b[0;34m\u001b[0m\u001b[0m\n\u001b[0;32m----> 7\u001b[0;31m         \u001b[0mG_loss\u001b[0m\u001b[0;34m,\u001b[0m \u001b[0mD_loss\u001b[0m \u001b[0;34m=\u001b[0m \u001b[0mtrain_step\u001b[0m\u001b[0;34m(\u001b[0m\u001b[0mimages_train\u001b[0m\u001b[0;34m,\u001b[0m \u001b[0mbatch_size\u001b[0m\u001b[0;34m=\u001b[0m\u001b[0mbatch_size\u001b[0m\u001b[0;34m)\u001b[0m\u001b[0;34m\u001b[0m\u001b[0;34m\u001b[0m\u001b[0m\n\u001b[0m\u001b[1;32m      8\u001b[0m         \u001b[0mG_losses\u001b[0m\u001b[0;34m.\u001b[0m\u001b[0mappend\u001b[0m\u001b[0;34m(\u001b[0m\u001b[0mG_loss\u001b[0m\u001b[0;34m)\u001b[0m\u001b[0;34m\u001b[0m\u001b[0;34m\u001b[0m\u001b[0m\n\u001b[1;32m      9\u001b[0m         \u001b[0mD_losses\u001b[0m\u001b[0;34m.\u001b[0m\u001b[0mappend\u001b[0m\u001b[0;34m(\u001b[0m\u001b[0mD_loss\u001b[0m\u001b[0;34m)\u001b[0m\u001b[0;34m\u001b[0m\u001b[0;34m\u001b[0m\u001b[0m\n",
      "\u001b[0;32m<ipython-input-577-35ead993fd78>\u001b[0m in \u001b[0;36mtrain_step\u001b[0;34m(images, batch_size)\u001b[0m\n\u001b[1;32m     12\u001b[0m         \u001b[0mdisc_loss\u001b[0m \u001b[0;34m=\u001b[0m \u001b[0mdiscriminator_loss\u001b[0m\u001b[0;34m(\u001b[0m\u001b[0mreal_output\u001b[0m\u001b[0;34m,\u001b[0m \u001b[0mfake_output\u001b[0m\u001b[0;34m,\u001b[0m \u001b[0mapply_label_smoothing\u001b[0m\u001b[0;34m=\u001b[0m\u001b[0;32mTrue\u001b[0m\u001b[0;34m,\u001b[0m \u001b[0mlabel_noise\u001b[0m\u001b[0;34m=\u001b[0m\u001b[0;32mTrue\u001b[0m\u001b[0;34m)\u001b[0m\u001b[0;34m\u001b[0m\u001b[0;34m\u001b[0m\u001b[0m\n\u001b[1;32m     13\u001b[0m \u001b[0;34m\u001b[0m\u001b[0m\n\u001b[0;32m---> 14\u001b[0;31m     \u001b[0mgrad_G\u001b[0m \u001b[0;34m=\u001b[0m \u001b[0mgen_tape\u001b[0m\u001b[0;34m.\u001b[0m\u001b[0mgradient\u001b[0m\u001b[0;34m(\u001b[0m\u001b[0mgen_loss\u001b[0m\u001b[0;34m,\u001b[0m \u001b[0mG\u001b[0m\u001b[0;34m.\u001b[0m\u001b[0mtrainable_variables\u001b[0m\u001b[0;34m)\u001b[0m\u001b[0;34m\u001b[0m\u001b[0;34m\u001b[0m\u001b[0m\n\u001b[0m\u001b[1;32m     15\u001b[0m     \u001b[0mgrad_D\u001b[0m \u001b[0;34m=\u001b[0m \u001b[0mdisc_tape\u001b[0m\u001b[0;34m.\u001b[0m\u001b[0mgradient\u001b[0m\u001b[0;34m(\u001b[0m\u001b[0mdisc_loss\u001b[0m\u001b[0;34m,\u001b[0m \u001b[0mD\u001b[0m\u001b[0;34m.\u001b[0m\u001b[0mtrainable_variables\u001b[0m\u001b[0;34m)\u001b[0m\u001b[0;34m\u001b[0m\u001b[0;34m\u001b[0m\u001b[0m\n\u001b[1;32m     16\u001b[0m \u001b[0;34m\u001b[0m\u001b[0m\n",
      "\u001b[0;32m~/anaconda3/lib/python3.7/site-packages/tensorflow_core/python/eager/backprop.py\u001b[0m in \u001b[0;36mgradient\u001b[0;34m(self, target, sources, output_gradients, unconnected_gradients)\u001b[0m\n\u001b[1;32m   1027\u001b[0m         \u001b[0moutput_gradients\u001b[0m\u001b[0;34m=\u001b[0m\u001b[0moutput_gradients\u001b[0m\u001b[0;34m,\u001b[0m\u001b[0;34m\u001b[0m\u001b[0;34m\u001b[0m\u001b[0m\n\u001b[1;32m   1028\u001b[0m         \u001b[0msources_raw\u001b[0m\u001b[0;34m=\u001b[0m\u001b[0mflat_sources_raw\u001b[0m\u001b[0;34m,\u001b[0m\u001b[0;34m\u001b[0m\u001b[0;34m\u001b[0m\u001b[0m\n\u001b[0;32m-> 1029\u001b[0;31m         unconnected_gradients=unconnected_gradients)\n\u001b[0m\u001b[1;32m   1030\u001b[0m \u001b[0;34m\u001b[0m\u001b[0m\n\u001b[1;32m   1031\u001b[0m     \u001b[0;32mif\u001b[0m \u001b[0;32mnot\u001b[0m \u001b[0mself\u001b[0m\u001b[0;34m.\u001b[0m\u001b[0m_persistent\u001b[0m\u001b[0;34m:\u001b[0m\u001b[0;34m\u001b[0m\u001b[0;34m\u001b[0m\u001b[0m\n",
      "\u001b[0;32m~/anaconda3/lib/python3.7/site-packages/tensorflow_core/python/eager/imperative_grad.py\u001b[0m in \u001b[0;36mimperative_grad\u001b[0;34m(tape, target, sources, output_gradients, sources_raw, unconnected_gradients)\u001b[0m\n\u001b[1;32m     75\u001b[0m       \u001b[0moutput_gradients\u001b[0m\u001b[0;34m,\u001b[0m\u001b[0;34m\u001b[0m\u001b[0;34m\u001b[0m\u001b[0m\n\u001b[1;32m     76\u001b[0m       \u001b[0msources_raw\u001b[0m\u001b[0;34m,\u001b[0m\u001b[0;34m\u001b[0m\u001b[0;34m\u001b[0m\u001b[0m\n\u001b[0;32m---> 77\u001b[0;31m       compat.as_str(unconnected_gradients.value))\n\u001b[0m",
      "\u001b[0;32m~/anaconda3/lib/python3.7/site-packages/tensorflow_core/python/eager/backprop.py\u001b[0m in \u001b[0;36m_gradient_function\u001b[0;34m(op_name, attr_tuple, num_inputs, inputs, outputs, out_grads, skip_input_indices)\u001b[0m\n\u001b[1;32m    139\u001b[0m     \u001b[0;32mreturn\u001b[0m \u001b[0;34m[\u001b[0m\u001b[0;32mNone\u001b[0m\u001b[0;34m]\u001b[0m \u001b[0;34m*\u001b[0m \u001b[0mnum_inputs\u001b[0m\u001b[0;34m\u001b[0m\u001b[0;34m\u001b[0m\u001b[0m\n\u001b[1;32m    140\u001b[0m \u001b[0;34m\u001b[0m\u001b[0m\n\u001b[0;32m--> 141\u001b[0;31m   \u001b[0;32mreturn\u001b[0m \u001b[0mgrad_fn\u001b[0m\u001b[0;34m(\u001b[0m\u001b[0mmock_op\u001b[0m\u001b[0;34m,\u001b[0m \u001b[0;34m*\u001b[0m\u001b[0mout_grads\u001b[0m\u001b[0;34m)\u001b[0m\u001b[0;34m\u001b[0m\u001b[0;34m\u001b[0m\u001b[0m\n\u001b[0m\u001b[1;32m    142\u001b[0m \u001b[0;34m\u001b[0m\u001b[0m\n\u001b[1;32m    143\u001b[0m \u001b[0;34m\u001b[0m\u001b[0m\n",
      "\u001b[0;32m~/anaconda3/lib/python3.7/site-packages/tensorflow_core/python/ops/nn_grad.py\u001b[0m in \u001b[0;36m_Conv2DBackpropInputGrad\u001b[0;34m(op, grad)\u001b[0m\n\u001b[1;32m     54\u001b[0m           \u001b[0mexplicit_paddings\u001b[0m\u001b[0;34m=\u001b[0m\u001b[0mop\u001b[0m\u001b[0;34m.\u001b[0m\u001b[0mget_attr\u001b[0m\u001b[0;34m(\u001b[0m\u001b[0;34m\"explicit_paddings\"\u001b[0m\u001b[0;34m)\u001b[0m\u001b[0;34m,\u001b[0m\u001b[0;34m\u001b[0m\u001b[0;34m\u001b[0m\u001b[0m\n\u001b[1;32m     55\u001b[0m           \u001b[0muse_cudnn_on_gpu\u001b[0m\u001b[0;34m=\u001b[0m\u001b[0mop\u001b[0m\u001b[0;34m.\u001b[0m\u001b[0mget_attr\u001b[0m\u001b[0;34m(\u001b[0m\u001b[0;34m\"use_cudnn_on_gpu\"\u001b[0m\u001b[0;34m)\u001b[0m\u001b[0;34m,\u001b[0m\u001b[0;34m\u001b[0m\u001b[0;34m\u001b[0m\u001b[0m\n\u001b[0;32m---> 56\u001b[0;31m           data_format=op.get_attr(\"data_format\").decode()),\n\u001b[0m\u001b[1;32m     57\u001b[0m       gen_nn_ops.conv2d(\n\u001b[1;32m     58\u001b[0m           \u001b[0mgrad\u001b[0m\u001b[0;34m,\u001b[0m\u001b[0;34m\u001b[0m\u001b[0;34m\u001b[0m\u001b[0m\n",
      "\u001b[0;32m~/anaconda3/lib/python3.7/site-packages/tensorflow_core/python/ops/gen_nn_ops.py\u001b[0m in \u001b[0;36mconv2d_backprop_filter\u001b[0;34m(input, filter_sizes, out_backprop, strides, padding, use_cudnn_on_gpu, explicit_paddings, data_format, dilations, name)\u001b[0m\n\u001b[1;32m   1079\u001b[0m         \u001b[0mstrides\u001b[0m\u001b[0;34m,\u001b[0m \u001b[0;34m\"use_cudnn_on_gpu\"\u001b[0m\u001b[0;34m,\u001b[0m \u001b[0muse_cudnn_on_gpu\u001b[0m\u001b[0;34m,\u001b[0m \u001b[0;34m\"padding\"\u001b[0m\u001b[0;34m,\u001b[0m \u001b[0mpadding\u001b[0m\u001b[0;34m,\u001b[0m\u001b[0;34m\u001b[0m\u001b[0;34m\u001b[0m\u001b[0m\n\u001b[1;32m   1080\u001b[0m         \u001b[0;34m\"explicit_paddings\"\u001b[0m\u001b[0;34m,\u001b[0m \u001b[0mexplicit_paddings\u001b[0m\u001b[0;34m,\u001b[0m \u001b[0;34m\"data_format\"\u001b[0m\u001b[0;34m,\u001b[0m \u001b[0mdata_format\u001b[0m\u001b[0;34m,\u001b[0m\u001b[0;34m\u001b[0m\u001b[0;34m\u001b[0m\u001b[0m\n\u001b[0;32m-> 1081\u001b[0;31m         \"dilations\", dilations)\n\u001b[0m\u001b[1;32m   1082\u001b[0m       \u001b[0;32mreturn\u001b[0m \u001b[0m_result\u001b[0m\u001b[0;34m\u001b[0m\u001b[0;34m\u001b[0m\u001b[0m\n\u001b[1;32m   1083\u001b[0m     \u001b[0;32mexcept\u001b[0m \u001b[0m_core\u001b[0m\u001b[0;34m.\u001b[0m\u001b[0m_FallbackException\u001b[0m\u001b[0;34m:\u001b[0m\u001b[0;34m\u001b[0m\u001b[0;34m\u001b[0m\u001b[0m\n",
      "\u001b[0;31mKeyboardInterrupt\u001b[0m: "
     ]
    }
   ],
   "source": [
    "train_batch(epochs=10)"
   ]
  },
  {
   "cell_type": "code",
   "execution_count": 585,
   "metadata": {},
   "outputs": [
    {
     "data": {
      "text/plain": [
       "[<matplotlib.lines.Line2D at 0x163dcef28>]"
      ]
     },
     "execution_count": 585,
     "metadata": {},
     "output_type": "execute_result"
    },
    {
     "data": {
      "image/png": "[encoded data removed]",
      "text/plain": [
       "<Figure size 432x288 with 1 Axes>"
      ]
     },
     "metadata": {
      "needs_background": "light"
     },
     "output_type": "display_data"
    }
   ],
   "source": [
    "plot(G_losses)\n",
    "plot(D_losses)"
   ]
  },
  {
   "cell_type": "code",
   "execution_count": 462,
   "metadata": {},
   "outputs": [],
   "source": [
    "# Original compilation\n",
    "DM = Sequential()\n",
    "DM.add(D)\n",
    "DM.compile(loss='binary_crossentropy', optimizer=Adam(0.0002), metrics=['accuracy'])\n",
    "\n",
    "AM = Sequential()\n",
    "AM.add(G)\n",
    "AM.add(D)\n",
    "AM.compile(loss='binary_crossentropy', optimizer=Adam(0.0002), metrics=['accuracy'])"
   ]
  },
  {
   "cell_type": "code",
   "execution_count": 479,
   "metadata": {},
   "outputs": [],
   "source": [
    "# Original training\n",
    "\n",
    "d_losses = []\n",
    "a_losses = []\n",
    "def train(epochs=1, batch_size=64):\n",
    "    steps = epochs * len(normed_images) // batch_size\n",
    "    for step_idx in tqdm_notebook(range(steps)):\n",
    "        # Select 'batch_size' real images\n",
    "        images_train = normed_images[np.random.randint(0, normed_images.shape[0], size=batch_size), :, :, :]\n",
    "        # Generate U(-1,1) noise to generate additional 'batch_size' fake images\n",
    "        noise = np.random.normal(size=[batch_size, noise_dim])\n",
    "        images_fake = G.predict(noise)\n",
    "        # Train discriminator on real and fake, classify as such \n",
    "        x = np.concatenate((images_train, images_fake))\n",
    "        y = np.ones([2*batch_size, 1])\n",
    "        y[batch_size:, :] = 0\n",
    "        d_loss = DM.train_on_batch(x, y)\n",
    "\n",
    "        y = np.ones([batch_size, 1])\n",
    "        noise = np.random.normal(size=[batch_size, noise_dim])\n",
    "        a_loss = AM.train_on_batch(noise, y)\n",
    "        \n",
    "        d_losses.append(d_loss)\n",
    "        a_losses.append(a_loss)"
   ]
  },
  {
   "cell_type": "code",
   "execution_count": 464,
   "metadata": {},
   "outputs": [
    {
     "data": {
      "application/vnd.jupyter.widget-view+json": {
       "model_id": "17b57f1b732048708f4ed3bba45dee10",
       "version_major": 2,
       "version_minor": 0
      },
      "text/plain": [
       "HBox(children=(IntProgress(value=0, max=321), HTML(value='')))"
      ]
     },
     "metadata": {},
     "output_type": "display_data"
    },
    {
     "name": "stdout",
     "output_type": "stream",
     "text": [
      "\n"
     ]
    }
   ],
   "source": [
    "train(epochs=1)"
   ]
  },
  {
   "cell_type": "code",
   "execution_count": 465,
   "metadata": {},
   "outputs": [
    {
     "data": {
      "text/plain": [
       "[<matplotlib.lines.Line2D at 0x153a487f0>,\n",
       " <matplotlib.lines.Line2D at 0x153957f98>]"
      ]
     },
     "execution_count": 465,
     "metadata": {},
     "output_type": "execute_result"
    },
    {
     "data": {
      "image/png": "[encoded data removed]",
      "text/plain": [
       "<Figure size 432x288 with 1 Axes>"
      ]
     },
     "metadata": {
      "needs_background": "light"
     },
     "output_type": "display_data"
    }
   ],
   "source": [
    "plot(d_losses)\n",
    "plot(a_losses)"
   ]
  },
  {
   "cell_type": "code",
   "execution_count": 499,
   "metadata": {},
   "outputs": [],
   "source": [
    "D.save('dogs_D.h5')\n",
    "G.save('dogs_G.h5')"
   ]
  },
  {
   "cell_type": "code",
   "execution_count": 591,
   "metadata": {},
   "outputs": [
    {
     "data": {
      "text/plain": [
       "0.061177965"
      ]
     },
     "execution_count": 591,
     "metadata": {},
     "output_type": "execute_result"
    }
   ],
   "source": [
    "# Test discriminator on real images\n",
    "D.predict(normed_images[np.random.randint(len(normed_images),size=(64))]).mean()"
   ]
  },
  {
   "cell_type": "code",
   "execution_count": 592,
   "metadata": {},
   "outputs": [
    {
     "data": {
      "text/plain": [
       "0.007829531"
      ]
     },
     "execution_count": 592,
     "metadata": {},
     "output_type": "execute_result"
    }
   ],
   "source": [
    "# Test discriminator on fake images\n",
    "D.predict(G.predict(np.random.normal(size=(64,128)))).mean()"
   ]
  },
  {
   "cell_type": "code",
   "execution_count": 597,
   "metadata": {},
   "outputs": [
    {
     "data": {
      "text/plain": [
       "<matplotlib.image.AxesImage at 0x1953af748>"
      ]
     },
     "execution_count": 597,
     "metadata": {},
     "output_type": "execute_result"
    },
    {
     "data": {
      "image/png": "[encoded data removed]",
      "text/plain": [
       "<Figure size 432x288 with 1 Axes>"
      ]
     },
     "metadata": {
      "needs_background": "light"
     },
     "output_type": "display_data"
    }
   ],
   "source": [
    "# Generate a fake image\n",
    "imshow((G.predict(np.random.normal(size=(1,128)))*127.5+127.5).reshape(64,64,3)/255)"
   ]
  },
  {
   "cell_type": "code",
   "execution_count": null,
   "metadata": {},
   "outputs": [],
   "source": []
  }
 ],
 "metadata": {
  "kernelspec": {
   "display_name": "Python 3",
   "language": "python",
   "name": "python3"
  },
  "language_info": {
   "codemirror_mode": {
    "name": "ipython",
    "version": 3
   },
   "file_extension": ".py",
   "mimetype": "text/x-python",
   "name": "python",
   "nbconvert_exporter": "python",
   "pygments_lexer": "ipython3",
   "version": "3.7.3"
  }
 },
 "nbformat": 4,
 "nbformat_minor": 2
}
