{
 "cells": [
  {
   "cell_type": "code",
   "execution_count": 5,
   "metadata": {},
   "outputs": [
    {
     "name": "stdout",
     "output_type": "stream",
     "text": [
      "Populating the interactive namespace from numpy and matplotlib\n"
     ]
    }
   ],
   "source": [
    "%pylab inline\n",
    "\n",
    "from sklearn.datasets import fetch_openml\n",
    "\n",
    "from tensorflow.keras.models import Sequential\n",
    "from tensorflow.keras.layers import Dense, Activation, Flatten, Reshape\n",
    "from tensorflow.keras.layers import Conv2D, Conv2DTranspose, UpSampling2D\n",
    "from tensorflow.keras.layers import LeakyReLU, Dropout, ReLU\n",
    "from tensorflow.keras.layers import BatchNormalization\n",
    "from tensorflow.keras.optimizers import Adam, RMSprop\n",
    "\n",
    "from tqdm._tqdm_notebook import tqdm_notebook\n",
    "\n",
    "#from PIL import Image\n",
    "\n",
    "import tensorflow as tf\n",
    "import xml.etree.ElementTree as ET \n",
    "import os\n",
    "import cv2\n",
    "\n",
    "rcParams['axes.grid'] = True\n",
    "rcParams['figure.figsize'] = (10,6)"
   ]
  },
  {
   "cell_type": "code",
   "execution_count": 6,
   "metadata": {},
   "outputs": [],
   "source": [
    "def read_image(src):\n",
    "    img = cv2.imread(src)\n",
    "    if img is None:\n",
    "        raise FileNotFoundError\n",
    "    img = cv2.cvtColor(img, cv2.COLOR_BGR2RGB)\n",
    "    return img\n",
    "\n",
    "image_width = 64\n",
    "image_height = 64\n",
    "image_channels = 3\n",
    "image_sample_size = 10000\n",
    "\n",
    "def crop_image(path):\n",
    "    image = read_image(path)\n",
    "    tree = ET.parse(os.path.join(annotation_dir, '/'.join(path.split('/')[-2:])[:-4]))\n",
    "    \n",
    "    root = tree.getroot() \n",
    "    size = root.find('size')\n",
    "    width = int(size.find('width').text)\n",
    "    height = int(size.find('height').text)\n",
    "    objects = root.findall('object')\n",
    "    \n",
    "    bndbox = objects[0].find('bndbox') \n",
    "\n",
    "    xmin = int(bndbox.find('xmin').text)\n",
    "    ymin = int(bndbox.find('ymin').text)\n",
    "    xmax = int(bndbox.find('xmax').text)\n",
    "    ymax = int(bndbox.find('ymax').text)\n",
    "\n",
    "    # 4 : margin\n",
    "    xmin = max(0, xmin - 4) \n",
    "    xmax = min(width, xmax + 4)\n",
    "    ymin = max(0, ymin - 4)\n",
    "    ymax = min(height, ymax + 4)\n",
    "\n",
    "    # available w\n",
    "    w = np.min((xmax - xmin, ymax - ymin))\n",
    "    w = min(w, width, height)                     \n",
    "\n",
    "    if w > xmax - xmin:\n",
    "        xmin = min(max(0, xmin - int((w - (xmax - xmin))/2)), width - w)\n",
    "        xmax = xmin + w\n",
    "    if w > ymax - ymin:\n",
    "        ymin = min(max(0, ymin - int((w - (ymax - ymin))/2)), height - w)\n",
    "        ymax = ymin + w\n",
    "\n",
    "    # [h,w,c]\n",
    "    img_cropped = image[ymin:ymin+w, xmin:xmin+w, :]    \n",
    "\n",
    "    # Interpolation method\n",
    "    if xmax - xmin > image_width:\n",
    "        # shrink\n",
    "        interpolation = cv2.INTER_AREA          \n",
    "    else:\n",
    "        # expansion\n",
    "        interpolation = cv2.INTER_CUBIC         \n",
    "\n",
    "    # resize\n",
    "    return cv2.resize(img_cropped, (image_width, image_height), interpolation=interpolation)"
   ]
  },
  {
   "cell_type": "code",
   "execution_count": 7,
   "metadata": {},
   "outputs": [],
   "source": [
    "annotation_dir = 'stanford-dogs-dataset/annotations/Annotation'\n",
    "image_dir = 'stanford-dogs-dataset/images/Images'\n",
    "dog_breed_dict = {}\n",
    "for annotation in os.listdir(annotation_dir):\n",
    "    if annotation == '.DS_Store':\n",
    "        continue\n",
    "    annotations = annotation.split('-')\n",
    "    dog_breed_dict[annotations[0]] = '-'.join(annotations[1:])"
   ]
  },
  {
   "cell_type": "code",
   "execution_count": 8,
   "metadata": {},
   "outputs": [
    {
     "data": {
      "application/vnd.jupyter.widget-view+json": {
       "model_id": "4f24ea29fe48417eadce10d81f10b934",
       "version_major": 2,
       "version_minor": 0
      },
      "text/plain": [
       "HBox(children=(IntProgress(value=0, max=120), HTML(value='')))"
      ]
     },
     "metadata": {},
     "output_type": "display_data"
    },
    {
     "name": "stdout",
     "output_type": "stream",
     "text": [
      "\n"
     ]
    }
   ],
   "source": [
    "images = {}\n",
    "for tag, breed in tqdm_notebook(dog_breed_dict.items()):\n",
    "    breed_dir = '{}/{}-{}'.format(image_dir, tag, breed)\n",
    "    fnames = ['{}/{}'.format(breed_dir, fname) for fname in os.listdir(breed_dir)]\n",
    "    images[tag] = np.array([crop_image(fname) for fname in fnames])"
   ]
  },
  {
   "cell_type": "code",
   "execution_count": 171,
   "metadata": {},
   "outputs": [],
   "source": [
    "train_per_breed = 80\n",
    "test_per_breed = 50\n",
    "\n",
    "X_train = np.zeros(shape=(len(images)*train_per_breed,image_height,image_width,image_channels))\n",
    "X_test  = np.zeros(shape=(len(images)*test_per_breed,image_height,image_width,image_channels))\n",
    "y_train = np.zeros(shape=(len(images)*train_per_breed))\n",
    "y_test  = np.zeros(shape=(len(images)*test_per_breed))\n",
    "breed_category = []\n",
    "for breed_idx, kv in enumerate(images.items()):\n",
    "    breed, image_arr = kv\n",
    "    idx_lo_train = breed_idx*train_per_breed\n",
    "    idx_lo_test  = breed_idx*test_per_breed\n",
    "    indices = np.random.randint(len(image_arr),size=(train_per_breed+test_per_breed))\n",
    "    X_train[idx_lo_train : idx_lo_train+train_per_breed, :,:,:] = image_arr[indices[:train_per_breed]]\n",
    "    X_test[idx_lo_test : idx_lo_test+test_per_breed, :,:,:] = image_arr[indices[train_per_breed:]]\n",
    "    y_train[idx_lo_train : idx_lo_train + train_per_breed] = breed_idx\n",
    "    y_test[idx_lo_test : idx_lo_test + test_per_breed] = breed_idx\n",
    "    breed_category.append(dog_breed_dict[breed])"
   ]
  },
  {
   "cell_type": "code",
   "execution_count": 172,
   "metadata": {},
   "outputs": [],
   "source": [
    "X_train = (X_train - 127.5)/255\n",
    "X_test  = (X_test - 127.5)/255\n",
    "y_train = tf.keras.utils.to_categorical(y_train)\n",
    "y_test  = tf.keras.utils.to_categorical(y_test)"
   ]
  },
  {
   "cell_type": "code",
   "execution_count": 173,
   "metadata": {},
   "outputs": [],
   "source": [
    "def conv(model, out_channels, ksize, stride_size):\n",
    "    model.add(Conv2D(out_channels,(ksize,ksize),strides=(stride_size,stride_size),padding='same',use_bias=False))\n",
    "    model.add(BatchNormalization())\n",
    "    model.add(LeakyReLU(leaky_relu_slope))\n",
    "    model.add(Dropout(0.40))\n",
    "    return model"
   ]
  },
  {
   "cell_type": "code",
   "execution_count": 232,
   "metadata": {},
   "outputs": [
    {
     "name": "stdout",
     "output_type": "stream",
     "text": [
      "Model: \"sequential_10\"\n",
      "_________________________________________________________________\n",
      "Layer (type)                 Output Shape              Param #   \n",
      "=================================================================\n",
      "conv2d_38 (Conv2D)           (None, 32, 32, 64)        3072      \n",
      "_________________________________________________________________\n",
      "leaky_re_lu_38 (LeakyReLU)   (None, 32, 32, 64)        0         \n",
      "_________________________________________________________________\n",
      "dropout_5 (Dropout)          (None, 32, 32, 64)        0         \n",
      "_________________________________________________________________\n",
      "conv2d_39 (Conv2D)           (None, 16, 16, 64)        65536     \n",
      "_________________________________________________________________\n",
      "batch_normalization_28 (Batc (None, 16, 16, 64)        256       \n",
      "_________________________________________________________________\n",
      "leaky_re_lu_39 (LeakyReLU)   (None, 16, 16, 64)        0         \n",
      "_________________________________________________________________\n",
      "dropout_6 (Dropout)          (None, 16, 16, 64)        0         \n",
      "_________________________________________________________________\n",
      "conv2d_40 (Conv2D)           (None, 8, 8, 128)         131072    \n",
      "_________________________________________________________________\n",
      "batch_normalization_29 (Batc (None, 8, 8, 128)         512       \n",
      "_________________________________________________________________\n",
      "leaky_re_lu_40 (LeakyReLU)   (None, 8, 8, 128)         0         \n",
      "_________________________________________________________________\n",
      "dropout_7 (Dropout)          (None, 8, 8, 128)         0         \n",
      "_________________________________________________________________\n",
      "conv2d_41 (Conv2D)           (None, 4, 4, 256)         524288    \n",
      "_________________________________________________________________\n",
      "batch_normalization_30 (Batc (None, 4, 4, 256)         1024      \n",
      "_________________________________________________________________\n",
      "leaky_re_lu_41 (LeakyReLU)   (None, 4, 4, 256)         0         \n",
      "_________________________________________________________________\n",
      "dropout_8 (Dropout)          (None, 4, 4, 256)         0         \n",
      "_________________________________________________________________\n",
      "flatten_9 (Flatten)          (None, 4096)              0         \n",
      "_________________________________________________________________\n",
      "dense_9 (Dense)              (None, 120)               491640    \n",
      "=================================================================\n",
      "Total params: 1,217,400\n",
      "Trainable params: 1,216,504\n",
      "Non-trainable params: 896\n",
      "_________________________________________________________________\n"
     ]
    }
   ],
   "source": [
    "leaky_relu_slope = 0.20\n",
    "\n",
    "# Do rounds of Conv2D, doubling filters, applying batch normalization, and leaky relu.\n",
    "\n",
    "model = Sequential()\n",
    "model.add(Conv2D(64, (4, 4), strides=(2,2), padding='same', use_bias=False, \n",
    "                 input_shape=(image_height, image_width, image_channels)))\n",
    "#model.add(BatchNormalization())\n",
    "model.add(LeakyReLU(alpha=leaky_relu_slope))\n",
    "model.add(Dropout(0.50))\n",
    "\n",
    "model = conv(model, 64, ksize=4, stride_size=2)\n",
    "model = conv(model, 128, ksize=4, stride_size=2)\n",
    "model = conv(model, 256, ksize=4, stride_size=2)\n",
    "\n",
    "model.add(Flatten())\n",
    "model.add(Dense(len(dog_breed_dict), activation='softmax'))\n",
    "model.summary()"
   ]
  },
  {
   "cell_type": "code",
   "execution_count": 234,
   "metadata": {},
   "outputs": [],
   "source": [
    "losses = [[],[]]"
   ]
  },
  {
   "cell_type": "code",
   "execution_count": 282,
   "metadata": {},
   "outputs": [],
   "source": [
    "model.compile(optimizer=Adam(learning_rate=0.00001),loss='categorical_crossentropy',metrics=['accuracy'])"
   ]
  },
  {
   "cell_type": "code",
   "execution_count": 302,
   "metadata": {},
   "outputs": [
    {
     "name": "stdout",
     "output_type": "stream",
     "text": [
      "Train on 9600 samples, validate on 6000 samples\n",
      "Epoch 1/100\n",
      "9600/9600 [==============================] - 27s 3ms/sample - loss: 1.1898 - accuracy: 0.7150 - val_loss: 3.1443 - val_accuracy: 0.3965\n",
      "Epoch 2/100\n",
      "9600/9600 [==============================] - 26s 3ms/sample - loss: 1.1845 - accuracy: 0.7142 - val_loss: 3.1469 - val_accuracy: 0.3968\n",
      "Epoch 3/100\n",
      "9600/9600 [==============================] - 26s 3ms/sample - loss: 1.1838 - accuracy: 0.7116 - val_loss: 3.1498 - val_accuracy: 0.3965\n",
      "Epoch 4/100\n",
      "9600/9600 [==============================] - 26s 3ms/sample - loss: 1.1737 - accuracy: 0.7188 - val_loss: 3.1433 - val_accuracy: 0.3985\n",
      "Epoch 5/100\n",
      "9600/9600 [==============================] - 26s 3ms/sample - loss: 1.1706 - accuracy: 0.7175 - val_loss: 3.1454 - val_accuracy: 0.3978\n",
      "Epoch 6/100\n",
      "9600/9600 [==============================] - 26s 3ms/sample - loss: 1.1785 - accuracy: 0.7106 - val_loss: 3.1454 - val_accuracy: 0.3997\n",
      "Epoch 7/100\n",
      "9600/9600 [==============================] - 26s 3ms/sample - loss: 1.1698 - accuracy: 0.7165 - val_loss: 3.1429 - val_accuracy: 0.4005\n",
      "Epoch 8/100\n",
      "9600/9600 [==============================] - 26s 3ms/sample - loss: 1.1675 - accuracy: 0.7188 - val_loss: 3.1451 - val_accuracy: 0.3998\n",
      "Epoch 9/100\n",
      "9600/9600 [==============================] - 26s 3ms/sample - loss: 1.1504 - accuracy: 0.7212 - val_loss: 3.1380 - val_accuracy: 0.4002\n",
      "Epoch 10/100\n",
      "9600/9600 [==============================] - 26s 3ms/sample - loss: 1.1362 - accuracy: 0.7255 - val_loss: 3.1435 - val_accuracy: 0.3997\n",
      "Epoch 11/100\n",
      "9600/9600 [==============================] - 27s 3ms/sample - loss: 1.1476 - accuracy: 0.7206 - val_loss: 3.1414 - val_accuracy: 0.3995\n",
      "Epoch 12/100\n",
      "9600/9600 [==============================] - 28s 3ms/sample - loss: 1.1467 - accuracy: 0.7244 - val_loss: 3.1379 - val_accuracy: 0.4017\n",
      "Epoch 13/100\n",
      "9600/9600 [==============================] - 27s 3ms/sample - loss: 1.1408 - accuracy: 0.7244 - val_loss: 3.1404 - val_accuracy: 0.4008\n",
      "Epoch 14/100\n",
      "9600/9600 [==============================] - 28s 3ms/sample - loss: 1.1297 - accuracy: 0.7217 - val_loss: 3.1372 - val_accuracy: 0.4038\n",
      "Epoch 15/100\n",
      "9600/9600 [==============================] - 28s 3ms/sample - loss: 1.1318 - accuracy: 0.7240 - val_loss: 3.1419 - val_accuracy: 0.4008\n",
      "Epoch 16/100\n",
      "9600/9600 [==============================] - 28s 3ms/sample - loss: 1.1238 - accuracy: 0.7276 - val_loss: 3.1382 - val_accuracy: 0.4007\n",
      "Epoch 17/100\n",
      "9600/9600 [==============================] - 28s 3ms/sample - loss: 1.1232 - accuracy: 0.7304 - val_loss: 3.1348 - val_accuracy: 0.4028\n",
      "Epoch 18/100\n",
      "9600/9600 [==============================] - 27s 3ms/sample - loss: 1.1192 - accuracy: 0.7273 - val_loss: 3.1406 - val_accuracy: 0.4018\n",
      "Epoch 19/100\n",
      "9600/9600 [==============================] - 28s 3ms/sample - loss: 1.1199 - accuracy: 0.7287 - val_loss: 3.1412 - val_accuracy: 0.4030\n",
      "Epoch 20/100\n",
      "9600/9600 [==============================] - 27s 3ms/sample - loss: 1.1182 - accuracy: 0.7335 - val_loss: 3.1412 - val_accuracy: 0.4033\n",
      "Epoch 21/100\n",
      "9600/9600 [==============================] - 28s 3ms/sample - loss: 1.1029 - accuracy: 0.7327 - val_loss: 3.1362 - val_accuracy: 0.4043\n",
      "Epoch 22/100\n",
      "9600/9600 [==============================] - 27s 3ms/sample - loss: 1.1105 - accuracy: 0.7381 - val_loss: 3.1384 - val_accuracy: 0.4045\n",
      "Epoch 23/100\n",
      "9600/9600 [==============================] - 28s 3ms/sample - loss: 1.0737 - accuracy: 0.7487 - val_loss: 3.1408 - val_accuracy: 0.4047\n",
      "Epoch 24/100\n",
      "9600/9600 [==============================] - 28s 3ms/sample - loss: 1.0933 - accuracy: 0.7356 - val_loss: 3.1353 - val_accuracy: 0.4057\n",
      "Epoch 25/100\n",
      "9600/9600 [==============================] - 28s 3ms/sample - loss: 1.0927 - accuracy: 0.7346 - val_loss: 3.1334 - val_accuracy: 0.4067\n",
      "Epoch 26/100\n",
      "9600/9600 [==============================] - 28s 3ms/sample - loss: 1.0717 - accuracy: 0.7403 - val_loss: 3.1348 - val_accuracy: 0.4077\n",
      "Epoch 27/100\n",
      "9600/9600 [==============================] - 28s 3ms/sample - loss: 1.0783 - accuracy: 0.7406 - val_loss: 3.1377 - val_accuracy: 0.4073\n",
      "Epoch 28/100\n",
      "9600/9600 [==============================] - 27s 3ms/sample - loss: 1.0779 - accuracy: 0.7449 - val_loss: 3.1428 - val_accuracy: 0.4063\n",
      "Epoch 29/100\n",
      "9600/9600 [==============================] - 27s 3ms/sample - loss: 1.0781 - accuracy: 0.7356 - val_loss: 3.1353 - val_accuracy: 0.4083\n",
      "Epoch 30/100\n",
      "9600/9600 [==============================] - 27s 3ms/sample - loss: 1.0709 - accuracy: 0.7394 - val_loss: 3.1338 - val_accuracy: 0.4090\n",
      "Epoch 31/100\n",
      "9600/9600 [==============================] - 28s 3ms/sample - loss: 1.0768 - accuracy: 0.7384 - val_loss: 3.1353 - val_accuracy: 0.4078\n",
      "Epoch 32/100\n",
      "9600/9600 [==============================] - 27s 3ms/sample - loss: 1.0653 - accuracy: 0.7425 - val_loss: 3.1329 - val_accuracy: 0.4090\n",
      "Epoch 33/100\n",
      "9600/9600 [==============================] - 27s 3ms/sample - loss: 1.0417 - accuracy: 0.7460 - val_loss: 3.1361 - val_accuracy: 0.4072\n",
      "Epoch 34/100\n",
      "9600/9600 [==============================] - 27s 3ms/sample - loss: 1.0484 - accuracy: 0.7496 - val_loss: 3.1344 - val_accuracy: 0.4098\n",
      "Epoch 35/100\n",
      "9600/9600 [==============================] - 27s 3ms/sample - loss: 1.0459 - accuracy: 0.7476 - val_loss: 3.1388 - val_accuracy: 0.4085\n",
      "Epoch 36/100\n",
      "9600/9600 [==============================] - 27s 3ms/sample - loss: 1.0413 - accuracy: 0.7547 - val_loss: 3.1309 - val_accuracy: 0.4098\n",
      "Epoch 37/100\n",
      "9600/9600 [==============================] - 27s 3ms/sample - loss: 1.0288 - accuracy: 0.7538 - val_loss: 3.1385 - val_accuracy: 0.4097\n",
      "Epoch 38/100\n",
      "9600/9600 [==============================] - 27s 3ms/sample - loss: 1.0251 - accuracy: 0.7522 - val_loss: 3.1365 - val_accuracy: 0.4098\n",
      "Epoch 39/100\n",
      "9600/9600 [==============================] - 27s 3ms/sample - loss: 1.0360 - accuracy: 0.7503 - val_loss: 3.1347 - val_accuracy: 0.4112\n",
      "Epoch 40/100\n",
      "9600/9600 [==============================] - 27s 3ms/sample - loss: 1.0310 - accuracy: 0.7482 - val_loss: 3.1374 - val_accuracy: 0.4105\n",
      "Epoch 41/100\n",
      "9600/9600 [==============================] - 27s 3ms/sample - loss: 1.0228 - accuracy: 0.7590 - val_loss: 3.1375 - val_accuracy: 0.4098\n",
      "Epoch 42/100\n",
      "9600/9600 [==============================] - 27s 3ms/sample - loss: 1.0134 - accuracy: 0.7583 - val_loss: 3.1327 - val_accuracy: 0.4108\n",
      "Epoch 43/100\n",
      "9600/9600 [==============================] - 27s 3ms/sample - loss: 1.0114 - accuracy: 0.7565 - val_loss: 3.1321 - val_accuracy: 0.4115\n",
      "Epoch 44/100\n",
      "9600/9600 [==============================] - 27s 3ms/sample - loss: 1.0194 - accuracy: 0.7525 - val_loss: 3.1315 - val_accuracy: 0.4123\n",
      "Epoch 45/100\n",
      "9600/9600 [==============================] - 27s 3ms/sample - loss: 1.0035 - accuracy: 0.7694 - val_loss: 3.1365 - val_accuracy: 0.4133\n",
      "Epoch 46/100\n",
      "9600/9600 [==============================] - 27s 3ms/sample - loss: 1.0008 - accuracy: 0.7557 - val_loss: 3.1326 - val_accuracy: 0.4120\n",
      "Epoch 47/100\n",
      "9600/9600 [==============================] - 27s 3ms/sample - loss: 1.0050 - accuracy: 0.7563 - val_loss: 3.1310 - val_accuracy: 0.4125\n",
      "Epoch 48/100\n",
      "9600/9600 [==============================] - 27s 3ms/sample - loss: 0.9875 - accuracy: 0.7627 - val_loss: 3.1345 - val_accuracy: 0.4125\n",
      "Epoch 49/100\n",
      "9600/9600 [==============================] - 27s 3ms/sample - loss: 0.9947 - accuracy: 0.7616 - val_loss: 3.1353 - val_accuracy: 0.4125\n",
      "Epoch 50/100\n",
      "9600/9600 [==============================] - 27s 3ms/sample - loss: 0.9990 - accuracy: 0.7561 - val_loss: 3.1301 - val_accuracy: 0.4132\n",
      "Epoch 51/100\n",
      "9600/9600 [==============================] - 27s 3ms/sample - loss: 0.9900 - accuracy: 0.7616 - val_loss: 3.1335 - val_accuracy: 0.4127\n",
      "Epoch 52/100\n",
      "9600/9600 [==============================] - 27s 3ms/sample - loss: 0.9724 - accuracy: 0.7646 - val_loss: 3.1347 - val_accuracy: 0.4133\n",
      "Epoch 53/100\n",
      "9600/9600 [==============================] - 27s 3ms/sample - loss: 0.9834 - accuracy: 0.7648 - val_loss: 3.1355 - val_accuracy: 0.4125\n",
      "Epoch 54/100\n",
      "9600/9600 [==============================] - 27s 3ms/sample - loss: 0.9688 - accuracy: 0.7658 - val_loss: 3.1334 - val_accuracy: 0.4130\n",
      "Epoch 55/100\n",
      "9600/9600 [==============================] - 27s 3ms/sample - loss: 0.9664 - accuracy: 0.7611 - val_loss: 3.1383 - val_accuracy: 0.4133\n"
     ]
    },
    {
     "name": "stdout",
     "output_type": "stream",
     "text": [
      "Epoch 56/100\n",
      "9600/9600 [==============================] - 27s 3ms/sample - loss: 0.9553 - accuracy: 0.7706 - val_loss: 3.1359 - val_accuracy: 0.4150\n",
      "Epoch 57/100\n",
      "9600/9600 [==============================] - 27s 3ms/sample - loss: 0.9617 - accuracy: 0.7704 - val_loss: 3.1305 - val_accuracy: 0.4148\n",
      "Epoch 58/100\n",
      "9600/9600 [==============================] - 27s 3ms/sample - loss: 0.9623 - accuracy: 0.7711 - val_loss: 3.1334 - val_accuracy: 0.4143\n",
      "Epoch 59/100\n",
      "9600/9600 [==============================] - 27s 3ms/sample - loss: 0.9392 - accuracy: 0.7790 - val_loss: 3.1361 - val_accuracy: 0.4150\n",
      "Epoch 60/100\n",
      "9600/9600 [==============================] - 27s 3ms/sample - loss: 0.9405 - accuracy: 0.7768 - val_loss: 3.1348 - val_accuracy: 0.4142\n",
      "Epoch 61/100\n",
      "9600/9600 [==============================] - 27s 3ms/sample - loss: 0.9563 - accuracy: 0.7732 - val_loss: 3.1294 - val_accuracy: 0.4153\n",
      "Epoch 62/100\n",
      "9600/9600 [==============================] - 27s 3ms/sample - loss: 0.9406 - accuracy: 0.7772 - val_loss: 3.1364 - val_accuracy: 0.4162\n",
      "Epoch 63/100\n",
      "9600/9600 [==============================] - 27s 3ms/sample - loss: 0.9471 - accuracy: 0.7715 - val_loss: 3.1349 - val_accuracy: 0.4167\n",
      "Epoch 64/100\n",
      "9600/9600 [==============================] - 27s 3ms/sample - loss: 0.9349 - accuracy: 0.7727 - val_loss: 3.1318 - val_accuracy: 0.4177\n",
      "Epoch 65/100\n",
      "9600/9600 [==============================] - 27s 3ms/sample - loss: 0.9322 - accuracy: 0.7730 - val_loss: 3.1370 - val_accuracy: 0.4167\n",
      "Epoch 66/100\n",
      "9600/9600 [==============================] - 27s 3ms/sample - loss: 0.9234 - accuracy: 0.7815 - val_loss: 3.1333 - val_accuracy: 0.4175\n",
      "Epoch 67/100\n",
      "9600/9600 [==============================] - 27s 3ms/sample - loss: 0.9399 - accuracy: 0.7706 - val_loss: 3.1297 - val_accuracy: 0.4172\n",
      "Epoch 68/100\n",
      "9600/9600 [==============================] - 30s 3ms/sample - loss: 0.9321 - accuracy: 0.7747 - val_loss: 3.1313 - val_accuracy: 0.4180\n",
      "Epoch 69/100\n",
      "9600/9600 [==============================] - 32s 3ms/sample - loss: 0.9253 - accuracy: 0.7812 - val_loss: 3.1367 - val_accuracy: 0.4172\n",
      "Epoch 70/100\n",
      "9600/9600 [==============================] - 36s 4ms/sample - loss: 0.9203 - accuracy: 0.7782 - val_loss: 3.1318 - val_accuracy: 0.4185\n",
      "Epoch 71/100\n",
      "9600/9600 [==============================] - 30s 3ms/sample - loss: 0.9105 - accuracy: 0.7806 - val_loss: 3.1365 - val_accuracy: 0.4183\n",
      "Epoch 72/100\n",
      "9600/9600 [==============================] - 30s 3ms/sample - loss: 0.9137 - accuracy: 0.7823 - val_loss: 3.1336 - val_accuracy: 0.4187\n",
      "Epoch 73/100\n",
      "9600/9600 [==============================] - 32s 3ms/sample - loss: 0.9016 - accuracy: 0.7864 - val_loss: 3.1398 - val_accuracy: 0.4185\n",
      "Epoch 74/100\n",
      "9600/9600 [==============================] - 32s 3ms/sample - loss: 0.9100 - accuracy: 0.7830 - val_loss: 3.1420 - val_accuracy: 0.4183\n",
      "Epoch 75/100\n",
      "9600/9600 [==============================] - 30s 3ms/sample - loss: 0.8902 - accuracy: 0.7856 - val_loss: 3.1358 - val_accuracy: 0.4200\n",
      "Epoch 76/100\n",
      "9600/9600 [==============================] - 30s 3ms/sample - loss: 0.8896 - accuracy: 0.7867 - val_loss: 3.1387 - val_accuracy: 0.4198\n",
      "Epoch 77/100\n",
      "9600/9600 [==============================] - 29s 3ms/sample - loss: 0.8800 - accuracy: 0.7895 - val_loss: 3.1389 - val_accuracy: 0.4193\n",
      "Epoch 78/100\n",
      "9600/9600 [==============================] - 29s 3ms/sample - loss: 0.8824 - accuracy: 0.7897 - val_loss: 3.1388 - val_accuracy: 0.4202\n",
      "Epoch 79/100\n",
      "9600/9600 [==============================] - 30s 3ms/sample - loss: 0.8774 - accuracy: 0.7924 - val_loss: 3.1405 - val_accuracy: 0.4203\n",
      "Epoch 80/100\n",
      "9600/9600 [==============================] - 32s 3ms/sample - loss: 0.8804 - accuracy: 0.7908 - val_loss: 3.1367 - val_accuracy: 0.4197\n",
      "Epoch 81/100\n",
      "9600/9600 [==============================] - 38s 4ms/sample - loss: 0.8859 - accuracy: 0.7844 - val_loss: 3.1382 - val_accuracy: 0.4200\n",
      "Epoch 82/100\n",
      "9600/9600 [==============================] - 32s 3ms/sample - loss: 0.8899 - accuracy: 0.7849 - val_loss: 3.1392 - val_accuracy: 0.4208\n",
      "Epoch 83/100\n",
      "9600/9600 [==============================] - 33s 3ms/sample - loss: 0.8750 - accuracy: 0.7866 - val_loss: 3.1397 - val_accuracy: 0.4207\n",
      "Epoch 84/100\n",
      "9600/9600 [==============================] - 30s 3ms/sample - loss: 0.8718 - accuracy: 0.7879 - val_loss: 3.1422 - val_accuracy: 0.4205\n",
      "Epoch 85/100\n",
      "9600/9600 [==============================] - 31s 3ms/sample - loss: 0.8602 - accuracy: 0.7926 - val_loss: 3.1388 - val_accuracy: 0.4213\n",
      "Epoch 86/100\n",
      "9600/9600 [==============================] - 32s 3ms/sample - loss: 0.8566 - accuracy: 0.7942 - val_loss: 3.1415 - val_accuracy: 0.4210\n",
      "Epoch 87/100\n",
      "9600/9600 [==============================] - 31s 3ms/sample - loss: 0.8635 - accuracy: 0.7887 - val_loss: 3.1359 - val_accuracy: 0.4228\n",
      "Epoch 88/100\n",
      "9600/9600 [==============================] - 28s 3ms/sample - loss: 0.8508 - accuracy: 0.7950 - val_loss: 3.1375 - val_accuracy: 0.4218\n",
      "Epoch 89/100\n",
      "9600/9600 [==============================] - 32s 3ms/sample - loss: 0.8535 - accuracy: 0.7937 - val_loss: 3.1410 - val_accuracy: 0.4232\n",
      "Epoch 90/100\n",
      "9600/9600 [==============================] - 30s 3ms/sample - loss: 0.8501 - accuracy: 0.7960 - val_loss: 3.1441 - val_accuracy: 0.4225\n",
      "Epoch 91/100\n",
      "9600/9600 [==============================] - 31s 3ms/sample - loss: 0.8394 - accuracy: 0.7983 - val_loss: 3.1382 - val_accuracy: 0.4225\n",
      "Epoch 92/100\n",
      "9600/9600 [==============================] - 28s 3ms/sample - loss: 0.8385 - accuracy: 0.7994 - val_loss: 3.1394 - val_accuracy: 0.4220\n",
      "Epoch 93/100\n",
      "9600/9600 [==============================] - 30s 3ms/sample - loss: 0.8296 - accuracy: 0.8064 - val_loss: 3.1452 - val_accuracy: 0.4205\n",
      "Epoch 94/100\n",
      "9600/9600 [==============================] - 30s 3ms/sample - loss: 0.8446 - accuracy: 0.7998 - val_loss: 3.1409 - val_accuracy: 0.4213\n",
      "Epoch 95/100\n",
      "9600/9600 [==============================] - 27s 3ms/sample - loss: 0.8527 - accuracy: 0.7965 - val_loss: 3.1382 - val_accuracy: 0.4225\n",
      "Epoch 96/100\n",
      "9600/9600 [==============================] - 32s 3ms/sample - loss: 0.8255 - accuracy: 0.8059 - val_loss: 3.1451 - val_accuracy: 0.4218\n",
      "Epoch 97/100\n",
      "9600/9600 [==============================] - 28s 3ms/sample - loss: 0.8200 - accuracy: 0.8029 - val_loss: 3.1364 - val_accuracy: 0.4235\n",
      "Epoch 98/100\n",
      "9600/9600 [==============================] - 30s 3ms/sample - loss: 0.8387 - accuracy: 0.8032 - val_loss: 3.1415 - val_accuracy: 0.4228\n",
      "Epoch 99/100\n",
      "9600/9600 [==============================] - 28s 3ms/sample - loss: 0.8125 - accuracy: 0.8040 - val_loss: 3.1430 - val_accuracy: 0.4222\n",
      "Epoch 100/100\n",
      "9600/9600 [==============================] - 28s 3ms/sample - loss: 0.8208 - accuracy: 0.8083 - val_loss: 3.1422 - val_accuracy: 0.4232\n"
     ]
    }
   ],
   "source": [
    "history = model.fit(X_train,y_train,epochs=100,batch_size=64,validation_data=(X_test,y_test))\n",
    "losses[0] += history.history['accuracy']\n",
    "losses[1] += history.history['val_accuracy']"
   ]
  },
  {
   "cell_type": "code",
   "execution_count": 303,
   "metadata": {},
   "outputs": [
    {
     "data": {
      "text/plain": [
       "<matplotlib.legend.Legend at 0x19bb3f7f0>"
      ]
     },
     "execution_count": 303,
     "metadata": {},
     "output_type": "execute_result"
    },
    {
     "data": {
      "image/png": "[encoded data removed]",
      "text/plain": [
       "<Figure size 720x432 with 1 Axes>"
      ]
     },
     "metadata": {
      "needs_background": "light"
     },
     "output_type": "display_data"
    }
   ],
   "source": [
    "plot(losses[0],label='training accuracy')\n",
    "plot(losses[1],label='validation accuracy')\n",
    "legend(loc='upper left')"
   ]
  },
  {
   "cell_type": "code",
   "execution_count": 304,
   "metadata": {},
   "outputs": [],
   "source": [
    "model.save('dog.h5')"
   ]
  },
  {
   "cell_type": "code",
   "execution_count": 364,
   "metadata": {},
   "outputs": [],
   "source": [
    "tests = []\n",
    "for fname in ['mac1.jpg','mac2.jpg','maltese.jpg']:\n",
    "    tests.append(cv2.resize(read_image('stanford-dogs-dataset/{}'.format(fname)), \n",
    "                            (image_width, image_height), interpolation=cv2.INTER_AREA))"
   ]
  },
  {
   "cell_type": "code",
   "execution_count": 362,
   "metadata": {},
   "outputs": [
    {
     "data": {
      "text/plain": [
       "<matplotlib.image.AxesImage at 0x19f33a9b0>"
      ]
     },
     "execution_count": 362,
     "metadata": {},
     "output_type": "execute_result"
    },
    {
     "data": {
      "image/png": "[encoded data removed]",
      "text/plain": [
       "<Figure size 720x432 with 1 Axes>"
      ]
     },
     "metadata": {
      "needs_background": "light"
     },
     "output_type": "display_data"
    }
   ],
   "source": [
    "imshow(tests[1])"
   ]
  },
  {
   "cell_type": "code",
   "execution_count": 363,
   "metadata": {},
   "outputs": [
    {
     "data": {
      "text/plain": [
       "<BarContainer object of 5 artists>"
      ]
     },
     "execution_count": 363,
     "metadata": {},
     "output_type": "execute_result"
    },
    {
     "data": {
      "image/png": "[encoded data removed]",
      "text/plain": [
       "<Figure size 720x432 with 1 Axes>"
      ]
     },
     "metadata": {
      "needs_background": "light"
     },
     "output_type": "display_data"
    }
   ],
   "source": [
    "prediction = model.predict((tests[1].reshape(1,64,64,3) - 127.5)/255)[0]\n",
    "cutoff = prediction > np.sort(prediction)[-6:].min()\n",
    "bar(np.array(breed_category)[cutoff],prediction[cutoff])"
   ]
  },
  {
   "cell_type": "code",
   "execution_count": null,
   "metadata": {},
   "outputs": [],
   "source": []
  }
 ],
 "metadata": {
  "kernelspec": {
   "display_name": "Python 3",
   "language": "python",
   "name": "python3"
  },
  "language_info": {
   "codemirror_mode": {
    "name": "ipython",
    "version": 3
   },
   "file_extension": ".py",
   "mimetype": "text/x-python",
   "name": "python",
   "nbconvert_exporter": "python",
   "pygments_lexer": "ipython3",
   "version": "3.7.3"
  }
 },
 "nbformat": 4,
 "nbformat_minor": 2
}
