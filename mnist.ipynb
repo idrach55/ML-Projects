{
 "cells": [
  {
   "cell_type": "code",
   "execution_count": 23,
   "metadata": {},
   "outputs": [
    {
     "name": "stdout",
     "output_type": "stream",
     "text": [
      "Populating the interactive namespace from numpy and matplotlib\n"
     ]
    }
   ],
   "source": [
    "%pylab inline\n",
    "\n",
    "import torch\n",
    "import torch.nn as nn\n",
    "import torch.nn.functional as F\n",
    "import torch.optim as optim\n",
    "\n",
    "from torchvision import datasets, transforms\n",
    "from torch.utils.data import DataLoader, TensorDataset"
   ]
  },
  {
   "cell_type": "code",
   "execution_count": 25,
   "metadata": {},
   "outputs": [],
   "source": [
    "def load_data(train=True):\n",
    "    transform = transforms.Compose([transforms.ToTensor()])\n",
    "    trainset = datasets.MNIST('../data', train=train, download=True, transform=transform)\n",
    "\n",
    "    X = trainset.data\n",
    "    y = trainset.targets\n",
    "\n",
    "    # Normalize data\n",
    "    X = X / 255.0\n",
    "    loader = DataLoader(TensorDataset(X.reshape(X.shape[0],1,X.shape[1],X.shape[2]),y), batch_size=64, shuffle=True)\n",
    "    return loader"
   ]
  },
  {
   "cell_type": "code",
   "execution_count": 6,
   "metadata": {},
   "outputs": [],
   "source": [
    "train_loader = load_data()"
   ]
  },
  {
   "cell_type": "code",
   "execution_count": 7,
   "metadata": {},
   "outputs": [],
   "source": [
    "class Net(nn.Module):\n",
    "    def __init__(self):\n",
    "        super(Net, self).__init__()\n",
    "        self.conv1 = nn.Conv2d(1, 10, kernel_size=5)\n",
    "        self.conv2 = nn.Conv2d(10, 20, kernel_size=5)\n",
    "        self.conv2_drop = nn.Dropout2d()\n",
    "        self.fc1 = nn.Linear(320, 50)\n",
    "        self.fc2 = nn.Linear(50, 10)\n",
    "\n",
    "    def forward(self, x):\n",
    "        x = F.relu(F.max_pool2d(self.conv1(x), 2))\n",
    "        x = F.relu(F.max_pool2d(self.conv2_drop(self.conv2(x)), 2))\n",
    "        x = x.view(-1, 320)\n",
    "        x = F.relu(self.fc1(x))\n",
    "        x = F.dropout(x, training=self.training)\n",
    "        x = self.fc2(x)\n",
    "        return F.log_softmax(x, dim=1)"
   ]
  },
  {
   "cell_type": "code",
   "execution_count": 8,
   "metadata": {},
   "outputs": [],
   "source": [
    "def train(epoch, model, optimizer, train_loader):\n",
    "    model.train()\n",
    "    train_losses = []\n",
    "    train_counter = []\n",
    "    for batch_idx, (data, target) in enumerate(train_loader):\n",
    "        optimizer.zero_grad()\n",
    "        output = model(data)\n",
    "        loss = F.nll_loss(output, target)\n",
    "        loss.backward()\n",
    "        optimizer.step()\n",
    "        if batch_idx % 10 == 0:\n",
    "            print('Train Epoch: {} [{}/{} ({:.0f}%)]\\tLoss: {:.6f}'.format(\n",
    "                epoch, batch_idx * len(data), len(train_loader.dataset),\n",
    "                100. * batch_idx / len(train_loader), loss.item()))\n",
    "            train_losses.append(loss.item())\n",
    "            train_counter.append((batch_idx*64) + ((epoch-1)*len(train_loader.dataset)))\n",
    "    return model, train_losses, train_counter"
   ]
  },
  {
   "cell_type": "code",
   "execution_count": 13,
   "metadata": {},
   "outputs": [],
   "source": [
    "model = Net()\n",
    "adam = optim.Adam(model.parameters())"
   ]
  },
  {
   "cell_type": "code",
   "execution_count": 24,
   "metadata": {},
   "outputs": [
    {
     "name": "stdout",
     "output_type": "stream",
     "text": [
      "Train Epoch: 1 [0/60000 (0%)]\tLoss: 0.312200\n",
      "Train Epoch: 1 [640/60000 (1%)]\tLoss: 0.239747\n",
      "Train Epoch: 1 [1280/60000 (2%)]\tLoss: 0.422470\n",
      "Train Epoch: 1 [1920/60000 (3%)]\tLoss: 0.254286\n",
      "Train Epoch: 1 [2560/60000 (4%)]\tLoss: 0.339576\n",
      "Train Epoch: 1 [3200/60000 (5%)]\tLoss: 0.241256\n",
      "Train Epoch: 1 [3840/60000 (6%)]\tLoss: 0.248747\n",
      "Train Epoch: 1 [4480/60000 (7%)]\tLoss: 0.388470\n",
      "Train Epoch: 1 [5120/60000 (9%)]\tLoss: 0.291923\n",
      "Train Epoch: 1 [5760/60000 (10%)]\tLoss: 0.527306\n",
      "Train Epoch: 1 [6400/60000 (11%)]\tLoss: 0.335168\n",
      "Train Epoch: 1 [7040/60000 (12%)]\tLoss: 0.291574\n",
      "Train Epoch: 1 [7680/60000 (13%)]\tLoss: 0.283862\n",
      "Train Epoch: 1 [8320/60000 (14%)]\tLoss: 0.271431\n",
      "Train Epoch: 1 [8960/60000 (15%)]\tLoss: 0.085578\n",
      "Train Epoch: 1 [9600/60000 (16%)]\tLoss: 0.208617\n",
      "Train Epoch: 1 [10240/60000 (17%)]\tLoss: 0.410543\n",
      "Train Epoch: 1 [10880/60000 (18%)]\tLoss: 0.155184\n",
      "Train Epoch: 1 [11520/60000 (19%)]\tLoss: 0.444121\n",
      "Train Epoch: 1 [12160/60000 (20%)]\tLoss: 0.262168\n",
      "Train Epoch: 1 [12800/60000 (21%)]\tLoss: 0.417867\n",
      "Train Epoch: 1 [13440/60000 (22%)]\tLoss: 0.352456\n",
      "Train Epoch: 1 [14080/60000 (23%)]\tLoss: 0.595110\n",
      "Train Epoch: 1 [14720/60000 (25%)]\tLoss: 0.318303\n",
      "Train Epoch: 1 [15360/60000 (26%)]\tLoss: 0.194208\n",
      "Train Epoch: 1 [16000/60000 (27%)]\tLoss: 0.556798\n",
      "Train Epoch: 1 [16640/60000 (28%)]\tLoss: 0.122877\n",
      "Train Epoch: 1 [17280/60000 (29%)]\tLoss: 0.322044\n",
      "Train Epoch: 1 [17920/60000 (30%)]\tLoss: 0.401251\n",
      "Train Epoch: 1 [18560/60000 (31%)]\tLoss: 0.199426\n",
      "Train Epoch: 1 [19200/60000 (32%)]\tLoss: 0.275840\n",
      "Train Epoch: 1 [19840/60000 (33%)]\tLoss: 0.295778\n",
      "Train Epoch: 1 [20480/60000 (34%)]\tLoss: 0.261107\n",
      "Train Epoch: 1 [21120/60000 (35%)]\tLoss: 0.307627\n",
      "Train Epoch: 1 [21760/60000 (36%)]\tLoss: 0.201182\n",
      "Train Epoch: 1 [22400/60000 (37%)]\tLoss: 0.612921\n",
      "Train Epoch: 1 [23040/60000 (38%)]\tLoss: 0.243144\n",
      "Train Epoch: 1 [23680/60000 (39%)]\tLoss: 0.338474\n",
      "Train Epoch: 1 [24320/60000 (41%)]\tLoss: 0.511156\n",
      "Train Epoch: 1 [24960/60000 (42%)]\tLoss: 0.314583\n",
      "Train Epoch: 1 [25600/60000 (43%)]\tLoss: 0.293727\n",
      "Train Epoch: 1 [26240/60000 (44%)]\tLoss: 0.193792\n",
      "Train Epoch: 1 [26880/60000 (45%)]\tLoss: 0.284434\n",
      "Train Epoch: 1 [27520/60000 (46%)]\tLoss: 0.181371\n",
      "Train Epoch: 1 [28160/60000 (47%)]\tLoss: 0.369555\n",
      "Train Epoch: 1 [28800/60000 (48%)]\tLoss: 0.218049\n",
      "Train Epoch: 1 [29440/60000 (49%)]\tLoss: 0.221415\n",
      "Train Epoch: 1 [30080/60000 (50%)]\tLoss: 0.256927\n",
      "Train Epoch: 1 [30720/60000 (51%)]\tLoss: 0.558321\n",
      "Train Epoch: 1 [31360/60000 (52%)]\tLoss: 0.300027\n",
      "Train Epoch: 1 [32000/60000 (53%)]\tLoss: 0.442007\n",
      "Train Epoch: 1 [32640/60000 (54%)]\tLoss: 0.271039\n",
      "Train Epoch: 1 [33280/60000 (55%)]\tLoss: 0.143113\n",
      "Train Epoch: 1 [33920/60000 (57%)]\tLoss: 0.159148\n",
      "Train Epoch: 1 [34560/60000 (58%)]\tLoss: 0.273804\n",
      "Train Epoch: 1 [35200/60000 (59%)]\tLoss: 0.163764\n",
      "Train Epoch: 1 [35840/60000 (60%)]\tLoss: 0.231891\n",
      "Train Epoch: 1 [36480/60000 (61%)]\tLoss: 0.192035\n",
      "Train Epoch: 1 [37120/60000 (62%)]\tLoss: 0.211301\n",
      "Train Epoch: 1 [37760/60000 (63%)]\tLoss: 0.220947\n",
      "Train Epoch: 1 [38400/60000 (64%)]\tLoss: 0.210245\n",
      "Train Epoch: 1 [39040/60000 (65%)]\tLoss: 0.280075\n",
      "Train Epoch: 1 [39680/60000 (66%)]\tLoss: 0.192047\n",
      "Train Epoch: 1 [40320/60000 (67%)]\tLoss: 0.288252\n",
      "Train Epoch: 1 [40960/60000 (68%)]\tLoss: 0.244049\n",
      "Train Epoch: 1 [41600/60000 (69%)]\tLoss: 0.327802\n",
      "Train Epoch: 1 [42240/60000 (70%)]\tLoss: 0.293648\n",
      "Train Epoch: 1 [42880/60000 (71%)]\tLoss: 0.170619\n",
      "Train Epoch: 1 [43520/60000 (72%)]\tLoss: 0.252380\n",
      "Train Epoch: 1 [44160/60000 (74%)]\tLoss: 0.314146\n",
      "Train Epoch: 1 [44800/60000 (75%)]\tLoss: 0.192499\n",
      "Train Epoch: 1 [45440/60000 (76%)]\tLoss: 0.211590\n",
      "Train Epoch: 1 [46080/60000 (77%)]\tLoss: 0.334392\n",
      "Train Epoch: 1 [46720/60000 (78%)]\tLoss: 0.125950\n",
      "Train Epoch: 1 [47360/60000 (79%)]\tLoss: 0.172569\n",
      "Train Epoch: 1 [48000/60000 (80%)]\tLoss: 0.173768\n",
      "Train Epoch: 1 [48640/60000 (81%)]\tLoss: 0.629158\n",
      "Train Epoch: 1 [49280/60000 (82%)]\tLoss: 0.427696\n",
      "Train Epoch: 1 [49920/60000 (83%)]\tLoss: 0.254373\n",
      "Train Epoch: 1 [50560/60000 (84%)]\tLoss: 0.299215\n",
      "Train Epoch: 1 [51200/60000 (85%)]\tLoss: 0.405846\n",
      "Train Epoch: 1 [51840/60000 (86%)]\tLoss: 0.424742\n",
      "Train Epoch: 1 [52480/60000 (87%)]\tLoss: 0.506673\n",
      "Train Epoch: 1 [53120/60000 (88%)]\tLoss: 0.258685\n",
      "Train Epoch: 1 [53760/60000 (90%)]\tLoss: 0.207916\n",
      "Train Epoch: 1 [54400/60000 (91%)]\tLoss: 0.225064\n",
      "Train Epoch: 1 [55040/60000 (92%)]\tLoss: 0.381707\n",
      "Train Epoch: 1 [55680/60000 (93%)]\tLoss: 0.148970\n",
      "Train Epoch: 1 [56320/60000 (94%)]\tLoss: 0.226029\n",
      "Train Epoch: 1 [56960/60000 (95%)]\tLoss: 0.335010\n",
      "Train Epoch: 1 [57600/60000 (96%)]\tLoss: 0.451968\n",
      "Train Epoch: 1 [58240/60000 (97%)]\tLoss: 0.298744\n",
      "Train Epoch: 1 [58880/60000 (98%)]\tLoss: 0.294933\n",
      "Train Epoch: 1 [59520/60000 (99%)]\tLoss: 0.307176\n"
     ]
    }
   ],
   "source": [
    "model, losses, counter = train(1, model, adam, train_loader)"
   ]
  },
  {
   "cell_type": "code",
   "execution_count": 19,
   "metadata": {},
   "outputs": [
    {
     "data": {
      "text/plain": [
       "Net(\n",
       "  (conv1): Conv2d(1, 10, kernel_size=(5, 5), stride=(1, 1))\n",
       "  (conv2): Conv2d(10, 20, kernel_size=(5, 5), stride=(1, 1))\n",
       "  (conv2_drop): Dropout2d(p=0.5, inplace=False)\n",
       "  (fc1): Linear(in_features=320, out_features=50, bias=True)\n",
       "  (fc2): Linear(in_features=50, out_features=10, bias=True)\n",
       ")"
      ]
     },
     "execution_count": 19,
     "metadata": {},
     "output_type": "execute_result"
    }
   ],
   "source": [
    "model.eval()"
   ]
  },
  {
   "cell_type": "code",
   "execution_count": 27,
   "metadata": {},
   "outputs": [],
   "source": [
    "test_set = load_data(train=False)"
   ]
  },
  {
   "cell_type": "code",
   "execution_count": 31,
   "metadata": {},
   "outputs": [
    {
     "data": {
      "text/plain": [
       "<matplotlib.image.AxesImage at 0x11fa14cc0>"
      ]
     },
     "execution_count": 31,
     "metadata": {},
     "output_type": "execute_result"
    },
    {
     "data": {
      "image/png": "[encoded data removed]",
      "text/plain": [
       "<Figure size 432x288 with 1 Axes>"
      ]
     },
     "metadata": {
      "needs_background": "light"
     },
     "output_type": "display_data"
    }
   ],
   "source": [
    "imshow(test_set.dataset[0][0].reshape(28,28,1)*255,cmap='gray')"
   ]
  },
  {
   "cell_type": "code",
   "execution_count": 33,
   "metadata": {},
   "outputs": [
    {
     "data": {
      "text/plain": [
       "tensor(7)"
      ]
     },
     "execution_count": 33,
     "metadata": {},
     "output_type": "execute_result"
    }
   ],
   "source": [
    "model(test_set.dataset[0][0].reshape(1,1,28,28)).argmax()"
   ]
  },
  {
   "cell_type": "code",
   "execution_count": null,
   "metadata": {},
   "outputs": [],
   "source": []
  }
 ],
 "metadata": {
  "kernelspec": {
   "display_name": "Python 3",
   "language": "python",
   "name": "python3"
  },
  "language_info": {
   "codemirror_mode": {
    "name": "ipython",
    "version": 3
   },
   "file_extension": ".py",
   "mimetype": "text/x-python",
   "name": "python",
   "nbconvert_exporter": "python",
   "pygments_lexer": "ipython3",
   "version": "3.7.3"
  }
 },
 "nbformat": 4,
 "nbformat_minor": 4
}
