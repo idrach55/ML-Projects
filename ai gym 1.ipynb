{
 "cells": [
  {
   "cell_type": "code",
   "execution_count": 1,
   "metadata": {},
   "outputs": [
    {
     "name": "stdout",
     "output_type": "stream",
     "text": [
      "Populating the interactive namespace from numpy and matplotlib\n"
     ]
    }
   ],
   "source": [
    "%pylab inline\n",
    "\n",
    "import gym\n",
    "import tensorflow as tf\n",
    "\n",
    "from tensorflow import keras\n",
    "from gym import wrappers\n",
    "from collections import deque"
   ]
  },
  {
   "cell_type": "code",
   "execution_count": 4,
   "metadata": {},
   "outputs": [
    {
     "data": {
      "text/html": [
       "\n",
       "    <video width=\"360\" height=\"auto\" alt=\"test\" controls><source src=\"data:video/mp4;base64,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\" type=\"video/mp4\" /></video>"
      ],
      "text/plain": [
       "<IPython.core.display.HTML object>"
      ]
     },
     "execution_count": 4,
     "metadata": {},
     "output_type": "execute_result"
    }
   ],
   "source": [
    "import io\n",
    "import base64\n",
    "from IPython.display import HTML\n",
    "\n",
    "video = io.open('./gym-results/openaigym.video.%s.video000000.mp4' % env.file_infix, 'r+b').read()\n",
    "encoded = base64.b64encode(video)\n",
    "HTML(data='''\n",
    "    <video width=\"360\" height=\"auto\" alt=\"test\" controls><source src=\"data:video/mp4;base64,{0}\" type=\"video/mp4\" /></video>'''\n",
    ".format(encoded.decode('ascii')))"
   ]
  },
  {
   "cell_type": "code",
   "execution_count": 2,
   "metadata": {},
   "outputs": [
    {
     "name": "stdout",
     "output_type": "stream",
     "text": [
      "Model: \"sequential\"\n",
      "_________________________________________________________________\n",
      "Layer (type)                 Output Shape              Param #   \n",
      "=================================================================\n",
      "dense (Dense)                (None, 32)                160       \n",
      "_________________________________________________________________\n",
      "dense_1 (Dense)              (None, 32)                1056      \n",
      "_________________________________________________________________\n",
      "dense_2 (Dense)              (None, 2)                 66        \n",
      "=================================================================\n",
      "Total params: 1,282\n",
      "Trainable params: 1,282\n",
      "Non-trainable params: 0\n",
      "_________________________________________________________________\n"
     ]
    }
   ],
   "source": [
    "input_shape = [4]\n",
    "n_outputs = 2\n",
    "model = keras.models.Sequential([\n",
    "    keras.layers.Dense(32, activation='elu', input_shape=input_shape),\n",
    "    keras.layers.Dense(32, activation='elu'),\n",
    "    keras.layers.Dense(n_outputs)\n",
    "])\n",
    "model.summary()"
   ]
  },
  {
   "cell_type": "code",
   "execution_count": 3,
   "metadata": {},
   "outputs": [],
   "source": [
    "def epsilon_greedy_policy(state, epsilon=0):\n",
    "    # Introduce random actional with probability epsilon\n",
    "    if np.random.rand() < epsilon:\n",
    "        return np.random.randint(2)\n",
    "    else:\n",
    "        # Return maximum predicted Q-value, Q_values = [Q_action_1, Q_action_2]\n",
    "        Q_values = model.predict(state[np.newaxis])\n",
    "        return np.argmax(Q_values[0])\n",
    "    \n",
    "def sample_experiences(batch_size):\n",
    "    # Select 'batch_size' random experiences from queue\n",
    "    indices = np.random.randint(len(replay_buffer), size=batch_size)\n",
    "    batch = [replay_buffer[index] for index in indices]\n",
    "    # Reslice into separate arrays for each component of the experience\n",
    "    states, actions, rewards, next_states, dones = [\n",
    "        np.array([experience[field_index] for experience in batch])\n",
    "        for field_index in range(5)]\n",
    "    return states, actions, rewards, next_states, dones\n",
    "\n",
    "def play_one_step(env, state, epsilon):\n",
    "    # Generate an action and execute it\n",
    "    action = epsilon_greedy_policy(state, epsilon)\n",
    "    next_state, reward, done, info = env.step(action)\n",
    "    # Add this experience to the queue\n",
    "    replay_buffer.append((state, action, reward, next_state, done))\n",
    "    return next_state, reward, done, info\n",
    "\n",
    "def training_step(batch_size):\n",
    "    # Sample experiences\n",
    "    experiences = sample_experiences(batch_size)\n",
    "    states, actions, rewards, next_states, dones = experiences\n",
    "    # Predict and select the maximum Q-values from each experience\n",
    "    next_Q_values = model.predict(next_states)\n",
    "    max_next_Q_values = np.max(next_Q_values, axis=1)\n",
    "    # Target Q-value\n",
    "    target_Q_values = (rewards + (1- dones) * discount_factor * max_next_Q_values)\n",
    "    # Ignore less-than-optimal predicted Q-values for each experience \n",
    "    mask = tf.one_hot(actions, n_outputs)\n",
    "    # Compute gradient\n",
    "    with tf.GradientTape() as tape:\n",
    "        all_Q_values = model(states)\n",
    "        Q_values = tf.reduce_sum(all_Q_values * mask, axis=1, keepdims=True)\n",
    "        loss = tf.reduce_mean(loss_fn(target_Q_values, Q_values))\n",
    "    grads = tape.gradient(loss, model.trainable_variables)\n",
    "    optimizer.apply_gradients(zip(grads, model.trainable_variables))"
   ]
  },
  {
   "cell_type": "code",
   "execution_count": 4,
   "metadata": {},
   "outputs": [],
   "source": [
    "replay_buffer = deque(maxlen=2000)"
   ]
  },
  {
   "cell_type": "code",
   "execution_count": 5,
   "metadata": {},
   "outputs": [],
   "source": [
    "batch_size = 32\n",
    "discount_factor = 0.95\n",
    "optimizer = keras.optimizers.Adam(lr=1e-3)\n",
    "loss_fn = keras.losses.mean_squared_error"
   ]
  },
  {
   "cell_type": "code",
   "execution_count": 24,
   "metadata": {},
   "outputs": [],
   "source": [
    "env = gym.make('CartPole-v1')\n",
    "#total_rewards = []\n",
    "for episode in range(600):\n",
    "    obs = env.reset()\n",
    "    total = 0\n",
    "    for step in range(200):\n",
    "        epsilon = 0.0 #max(1 - episode/500, 0.01)\n",
    "        obs, reward, done, info = play_one_step(env, obs, epsilon)\n",
    "        total += reward\n",
    "        if done:\n",
    "            total_rewards.append(total)\n",
    "            break\n",
    "    if episode > 50:\n",
    "        training_step(batch_size)"
   ]
  },
  {
   "cell_type": "code",
   "execution_count": 29,
   "metadata": {},
   "outputs": [
    {
     "data": {
      "text/plain": [
       "[<matplotlib.lines.Line2D at 0x156b1eba8>]"
      ]
     },
     "execution_count": 29,
     "metadata": {},
     "output_type": "execute_result"
    },
    {
     "data": {
      "image/png": "[encoded data removed]",
      "text/plain": [
       "<Figure size 432x288 with 1 Axes>"
      ]
     },
     "metadata": {
      "needs_background": "light"
     },
     "output_type": "display_data"
    }
   ],
   "source": [
    "import pandas\n",
    "plot(pandas.Series(total_rewards).rolling(100).mean())"
   ]
  },
  {
   "cell_type": "code",
   "execution_count": 23,
   "metadata": {},
   "outputs": [
    {
     "name": "stdout",
     "output_type": "stream",
     "text": [
      "lasted 79 steps\n"
     ]
    }
   ],
   "source": [
    "env = wrappers.Monitor(env, \"./gym-results\", force=True)\n",
    "obs = env.reset()\n",
    "done = False\n",
    "total_reward = 0\n",
    "while not done:\n",
    "    Q_values = model.predict(obs.reshape(1,4))\n",
    "    obs, reward, done, info = env.step(np.argmax(Q_values[0]))\n",
    "    total_reward += reward\n",
    "env.close()\n",
    "print('lasted %d steps'%total_reward)"
   ]
  },
  {
   "cell_type": "code",
   "execution_count": null,
   "metadata": {},
   "outputs": [],
   "source": []
  }
 ],
 "metadata": {
  "kernelspec": {
   "display_name": "Python 3",
   "language": "python",
   "name": "python3"
  },
  "language_info": {
   "codemirror_mode": {
    "name": "ipython",
    "version": 3
   },
   "file_extension": ".py",
   "mimetype": "text/x-python",
   "name": "python",
   "nbconvert_exporter": "python",
   "pygments_lexer": "ipython3",
   "version": "3.7.3"
  }
 },
 "nbformat": 4,
 "nbformat_minor": 2
}
